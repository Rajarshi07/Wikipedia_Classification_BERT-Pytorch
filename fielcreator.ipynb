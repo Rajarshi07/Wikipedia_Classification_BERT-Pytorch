{
 "cells": [
  {
   "cell_type": "markdown",
   "metadata": {},
   "source": [
    "### Objective: \n",
    "1. Create Folders based on unique rating values and create empty files inside folders with filename=article_pageid\n",
    "2. Download articles from wikipedia and save as file. Use article_pageid as page id to search in wikipedia api."
   ]
  },
  {
   "cell_type": "markdown",
   "metadata": {},
   "source": [
    "#### RUNNING IMPORTS"
   ]
  },
  {
   "cell_type": "code",
   "execution_count": null,
   "metadata": {},
   "outputs": [],
   "source": [
    "import pandas as pd\n",
    "import os\n",
    "import threading\n",
    "import wikipedia\n",
    "import queue\n",
    "import pickle"
   ]
  },
  {
   "cell_type": "markdown",
   "metadata": {},
   "source": [
    "### EDIT THIS TAB TO CONFIGURE NOTEBOOK SETTINGS"
   ]
  },
  {
   "cell_type": "code",
   "execution_count": null,
   "metadata": {},
   "outputs": [],
   "source": [
    "# CONFIG\n",
    "BASE_FOLDER = \"TEST\"\n",
    "TSV_FILE = \"test_set.tsv\"\n",
    "# Group into folder by this column\n",
    "FOLDER_BY = \"rating\"\n",
    "# Create files with names from this column\n",
    "FILE_BY = \"article_pageid\"\n",
    "FILE_FORMAT = \".txt\"\n",
    "# THREADS\n",
    "THREAD_COUNT = 20\n",
    "# END CONFIG"
   ]
  },
  {
   "cell_type": "markdown",
   "metadata": {},
   "source": [
    "##### READING THE TSV FILE AND CREATING INFERENCES"
   ]
  },
  {
   "cell_type": "code",
   "execution_count": null,
   "metadata": {},
   "outputs": [],
   "source": [
    "df = pd.read_csv(TSV_FILE, delimiter=\"\\t\")\n",
    "df.head()\n",
    "file_dict = dict(zip(df[FILE_BY], df[FOLDER_BY]))\n",
    "folder_dict = dict(zip(df[FOLDER_BY], df[FILE_BY]))\n",
    "urllist = df[FILE_BY].unique().tolist()"
   ]
  },
  {
   "cell_type": "markdown",
   "metadata": {},
   "source": [
    "#### CREATING FOLDERS"
   ]
  },
  {
   "cell_type": "code",
   "execution_count": null,
   "metadata": {},
   "outputs": [],
   "source": [
    "if not os.path.exists(BASE_FOLDER):\n",
    "    os.mkdir(BASE_FOLDER)\n",
    "for folder in folder_dict.keys():\n",
    "    os.makedirs(os.path.join(BASE_FOLDER, folder), exist_ok=True)\n",
    "    print(f\"folder created: {os.path.join(BASE_FOLDER, folder)}\")\n"
   ]
  },
  {
   "cell_type": "markdown",
   "metadata": {},
   "source": [
    "### MAIN ASYNC WORKER CLASS AND RUNNER FUNCTION"
   ]
  },
  {
   "cell_type": "code",
   "execution_count": null,
   "metadata": {},
   "outputs": [],
   "source": [
    "ERROR_LIST = []\n",
    "class Worker(threading.Thread):\n",
    "    def __init__(self, q, *args, **kwargs):\n",
    "        self.q = q\n",
    "        super().__init__(*args, **kwargs)\n",
    "    def run(self):\n",
    "        while True:\n",
    "            try:\n",
    "                work = self.q.get(timeout=3)\n",
    "                print(f\"{self.name} working on {work} with {self.q.qsize()} items left\")\n",
    "                page = wikipedia.page(pageid=work)\n",
    "                keepcharacters = (\".\", \"_\")\n",
    "                title = \"\".join(c for c in page.title if c.isalnum() or c in keepcharacters).rstrip()\n",
    "                content = page.content.encode(\"utf-8\")\n",
    "                folder = file_dict[work]\n",
    "                with open(os.path.join(BASE_FOLDER, folder, f\"{title}{FILE_FORMAT}\"), \"wb\") as f:\n",
    "                    f.write(content)\n",
    "                    f.close()\n",
    "                    print(f\"{os.path.join(BASE_FOLDER, folder, f'{title}{FILE_FORMAT}')} written\")\n",
    "            except queue.Empty:\n",
    "                return\n",
    "            except Exception as e:\n",
    "                print(f\"{self.name} error\",e)\n",
    "                ERROR_LIST.append(work)\n",
    "            self.q.task_done()\n",
    "\n",
    "def RunWorkers(urllist):\n",
    "    q = queue.Queue()\n",
    "    global ERROR_LIST \n",
    "    ERROR_LIST = []\n",
    "    for work in urllist:\n",
    "        q.put_nowait(work)\n",
    "    for _ in range(THREAD_COUNT):\n",
    "        Worker(q).start()\n",
    "    q.join()\n",
    "    print(f\"{len(ERROR_LIST)} errors\")\n",
    "    pickle.dump(ERROR_LIST, open(\"ERROR_LIST.p\", \"wb\"))"
   ]
  },
  {
   "cell_type": "markdown",
   "metadata": {},
   "source": [
    "## RUN THIS FOR FIRST RUN / DOWNLOAD FROM CSV"
   ]
  },
  {
   "cell_type": "code",
   "execution_count": null,
   "metadata": {},
   "outputs": [],
   "source": [
    "RunWorkers(urllist)"
   ]
  },
  {
   "cell_type": "markdown",
   "metadata": {},
   "source": [
    "## RUN THIS FOR ERROR CORRECTION FROM PREVIOUS RUN"
   ]
  },
  {
   "cell_type": "code",
   "execution_count": null,
   "metadata": {},
   "outputs": [],
   "source": [
    "ERRORS = pickle.load(open(\"ERROR_LIST.p\", \"rb\"))\n",
    "print(f\"Errors: {len(ERRORS)}\")\n",
    "\n",
    "RunWorkers(ERRORS)"
   ]
  }
 ],
 "metadata": {
  "interpreter": {
   "hash": "a6bdd94c198576e93dd5c2f539d34e9906db66a8c6bc385acd1638e2dac1003d"
  },
  "kernelspec": {
   "display_name": "Python 3.7.9 64-bit",
   "language": "python",
   "name": "python3"
  },
  "language_info": {
   "codemirror_mode": {
    "name": "ipython",
    "version": 3
   },
   "file_extension": ".py",
   "mimetype": "text/x-python",
   "name": "python",
   "nbconvert_exporter": "python",
   "pygments_lexer": "ipython3",
   "version": "3.7.9"
  },
  "orig_nbformat": 4
 },
 "nbformat": 4,
 "nbformat_minor": 2
}
