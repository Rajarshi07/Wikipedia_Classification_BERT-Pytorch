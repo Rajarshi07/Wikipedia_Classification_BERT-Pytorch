{
 "cells": [
  {
   "cell_type": "code",
   "execution_count": null,
   "metadata": {},
   "outputs": [],
   "source": [
    "%pip install sklearn"
   ]
  },
  {
   "cell_type": "code",
   "execution_count": 1,
   "metadata": {},
   "outputs": [],
   "source": [
    "from sklearn.model_selection import train_test_split\n",
    "from sklearn.preprocessing import StandardScaler\n",
    "from sklearn import svm\n",
    "from sklearn.multiclass import OneVsRestClassifier,OneVsOneClassifier,OutputCodeClassifier\n",
    "from sklearn.svm import LinearSVC\n",
    "from sklearn.metrics import confusion_matrix, accuracy_score\n",
    "from sklearn.naive_bayes import BernoulliNB\n",
    "from sklearn.ensemble import RandomForestClassifier\n",
    "import pandas as pd\n",
    "import numpy as np\n",
    "from sklearn.neighbors import KNeighborsClassifier\n",
    "from sklearn import metrics\n",
    "\n",
    "from sklearn.utils import shuffle\n"
   ]
  },
  {
   "cell_type": "code",
   "execution_count": 3,
   "metadata": {},
   "outputs": [
    {
     "data": {
      "text/html": [
       "<div>\n",
       "<style scoped>\n",
       "    .dataframe tbody tr th:only-of-type {\n",
       "        vertical-align: middle;\n",
       "    }\n",
       "\n",
       "    .dataframe tbody tr th {\n",
       "        vertical-align: top;\n",
       "    }\n",
       "\n",
       "    .dataframe thead th {\n",
       "        text-align: right;\n",
       "    }\n",
       "</style>\n",
       "<table border=\"1\" class=\"dataframe\">\n",
       "  <thead>\n",
       "    <tr style=\"text-align: right;\">\n",
       "      <th></th>\n",
       "      <th>1.Lexical Features are ........TypeToken</th>\n",
       "      <th>Corrected_typeToken</th>\n",
       "      <th>Root_typeToken</th>\n",
       "      <th>Bilogarithmic_typeToken</th>\n",
       "      <th>Uber_Index</th>\n",
       "      <th>POS_numNouns</th>\n",
       "      <th>POS_numProperNouns</th>\n",
       "      <th>POS_numPronouns</th>\n",
       "      <th>POS_numConjunct</th>\n",
       "      <th>POS_numAdjectives</th>\n",
       "      <th>...</th>\n",
       "      <th>third person - 3</th>\n",
       "      <th>fourth person - 4</th>\n",
       "      <th>referent elevating - Elev</th>\n",
       "      <th>formal register - Form</th>\n",
       "      <th>speaker humbling - Humb</th>\n",
       "      <th>informal register - Infm</th>\n",
       "      <th>inclusive - In</th>\n",
       "      <th>exclusive- Ex</th>\n",
       "      <th>label</th>\n",
       "      <th>filename</th>\n",
       "    </tr>\n",
       "  </thead>\n",
       "  <tbody>\n",
       "    <tr>\n",
       "      <th>0</th>\n",
       "      <td>0.433663</td>\n",
       "      <td>9.745372</td>\n",
       "      <td>13.782037</td>\n",
       "      <td>0.879225</td>\n",
       "      <td>44.277649</td>\n",
       "      <td>0.238614</td>\n",
       "      <td>0.033663</td>\n",
       "      <td>0.049505</td>\n",
       "      <td>0.036634</td>\n",
       "      <td>0.089109</td>\n",
       "      <td>...</td>\n",
       "      <td>110</td>\n",
       "      <td>0</td>\n",
       "      <td>0</td>\n",
       "      <td>0</td>\n",
       "      <td>0</td>\n",
       "      <td>0</td>\n",
       "      <td>0</td>\n",
       "      <td>0</td>\n",
       "      <td>C2</td>\n",
       "      <td>30.txt</td>\n",
       "    </tr>\n",
       "    <tr>\n",
       "      <th>1</th>\n",
       "      <td>0.254894</td>\n",
       "      <td>9.017274</td>\n",
       "      <td>12.752351</td>\n",
       "      <td>0.825321</td>\n",
       "      <td>30.514244</td>\n",
       "      <td>0.157811</td>\n",
       "      <td>0.000400</td>\n",
       "      <td>0.114662</td>\n",
       "      <td>0.039952</td>\n",
       "      <td>0.061526</td>\n",
       "      <td>...</td>\n",
       "      <td>213</td>\n",
       "      <td>0</td>\n",
       "      <td>0</td>\n",
       "      <td>0</td>\n",
       "      <td>0</td>\n",
       "      <td>0</td>\n",
       "      <td>0</td>\n",
       "      <td>0</td>\n",
       "      <td>C2</td>\n",
       "      <td>Jane_Eyre-Charlotte_Bronte17.txt</td>\n",
       "    </tr>\n",
       "    <tr>\n",
       "      <th>2</th>\n",
       "      <td>0.288288</td>\n",
       "      <td>8.855191</td>\n",
       "      <td>12.523132</td>\n",
       "      <td>0.835101</td>\n",
       "      <td>31.899778</td>\n",
       "      <td>0.185480</td>\n",
       "      <td>0.000000</td>\n",
       "      <td>0.082141</td>\n",
       "      <td>0.033386</td>\n",
       "      <td>0.053524</td>\n",
       "      <td>...</td>\n",
       "      <td>320</td>\n",
       "      <td>0</td>\n",
       "      <td>0</td>\n",
       "      <td>0</td>\n",
       "      <td>0</td>\n",
       "      <td>0</td>\n",
       "      <td>0</td>\n",
       "      <td>0</td>\n",
       "      <td>C2</td>\n",
       "      <td>Cry_Freedom-John_Briley8.txt</td>\n",
       "    </tr>\n",
       "    <tr>\n",
       "      <th>3</th>\n",
       "      <td>0.319310</td>\n",
       "      <td>8.597694</td>\n",
       "      <td>12.158976</td>\n",
       "      <td>0.843173</td>\n",
       "      <td>32.999268</td>\n",
       "      <td>0.176552</td>\n",
       "      <td>0.000000</td>\n",
       "      <td>0.092414</td>\n",
       "      <td>0.035172</td>\n",
       "      <td>0.053103</td>\n",
       "      <td>...</td>\n",
       "      <td>167</td>\n",
       "      <td>0</td>\n",
       "      <td>0</td>\n",
       "      <td>0</td>\n",
       "      <td>0</td>\n",
       "      <td>0</td>\n",
       "      <td>0</td>\n",
       "      <td>0</td>\n",
       "      <td>C2</td>\n",
       "      <td>The_Coral_Island-R_M_Ballantyne7.txt</td>\n",
       "    </tr>\n",
       "    <tr>\n",
       "      <th>4</th>\n",
       "      <td>0.281236</td>\n",
       "      <td>9.464340</td>\n",
       "      <td>13.384598</td>\n",
       "      <td>0.835792</td>\n",
       "      <td>32.863926</td>\n",
       "      <td>0.171302</td>\n",
       "      <td>0.000000</td>\n",
       "      <td>0.112141</td>\n",
       "      <td>0.029139</td>\n",
       "      <td>0.053422</td>\n",
       "      <td>...</td>\n",
       "      <td>267</td>\n",
       "      <td>0</td>\n",
       "      <td>0</td>\n",
       "      <td>0</td>\n",
       "      <td>0</td>\n",
       "      <td>0</td>\n",
       "      <td>0</td>\n",
       "      <td>0</td>\n",
       "      <td>C2</td>\n",
       "      <td>The_Best_of_times-Alan_Maley13.txt</td>\n",
       "    </tr>\n",
       "  </tbody>\n",
       "</table>\n",
       "<p>5 rows × 188 columns</p>\n",
       "</div>"
      ],
      "text/plain": [
       "   1.Lexical Features are ........TypeToken  Corrected_typeToken  \\\n",
       "0                                  0.433663             9.745372   \n",
       "1                                  0.254894             9.017274   \n",
       "2                                  0.288288             8.855191   \n",
       "3                                  0.319310             8.597694   \n",
       "4                                  0.281236             9.464340   \n",
       "\n",
       "   Root_typeToken  Bilogarithmic_typeToken  Uber_Index  POS_numNouns  \\\n",
       "0       13.782037                 0.879225   44.277649      0.238614   \n",
       "1       12.752351                 0.825321   30.514244      0.157811   \n",
       "2       12.523132                 0.835101   31.899778      0.185480   \n",
       "3       12.158976                 0.843173   32.999268      0.176552   \n",
       "4       13.384598                 0.835792   32.863926      0.171302   \n",
       "\n",
       "   POS_numProperNouns  POS_numPronouns  POS_numConjunct  POS_numAdjectives  \\\n",
       "0            0.033663         0.049505         0.036634           0.089109   \n",
       "1            0.000400         0.114662         0.039952           0.061526   \n",
       "2            0.000000         0.082141         0.033386           0.053524   \n",
       "3            0.000000         0.092414         0.035172           0.053103   \n",
       "4            0.000000         0.112141         0.029139           0.053422   \n",
       "\n",
       "   ...  third person - 3  fourth person - 4  referent elevating - Elev  \\\n",
       "0  ...               110                  0                          0   \n",
       "1  ...               213                  0                          0   \n",
       "2  ...               320                  0                          0   \n",
       "3  ...               167                  0                          0   \n",
       "4  ...               267                  0                          0   \n",
       "\n",
       "   formal register - Form  speaker humbling - Humb  informal register - Infm  \\\n",
       "0                       0                        0                         0   \n",
       "1                       0                        0                         0   \n",
       "2                       0                        0                         0   \n",
       "3                       0                        0                         0   \n",
       "4                       0                        0                         0   \n",
       "\n",
       "   inclusive - In  exclusive- Ex  label                              filename  \n",
       "0               0              0     C2                                30.txt  \n",
       "1               0              0     C2      Jane_Eyre-Charlotte_Bronte17.txt  \n",
       "2               0              0     C2          Cry_Freedom-John_Briley8.txt  \n",
       "3               0              0     C2  The_Coral_Island-R_M_Ballantyne7.txt  \n",
       "4               0              0     C2    The_Best_of_times-Alan_Maley13.txt  \n",
       "\n",
       "[5 rows x 188 columns]"
      ]
     },
     "execution_count": 3,
     "metadata": {},
     "output_type": "execute_result"
    }
   ],
   "source": [
    "all_scores = pd.read_csv(\"feature_out.csv\")\n",
    "all_scores.head()"
   ]
  },
  {
   "cell_type": "code",
   "execution_count": 9,
   "metadata": {},
   "outputs": [
    {
     "name": "stdout",
     "output_type": "stream",
     "text": [
      "No filename column present\n"
     ]
    }
   ],
   "source": [
    "try:\n",
    "    all_scores = all_scores.drop(['filename'], axis=1)\n",
    "except:\n",
    "    print(\"No filename column present\")"
   ]
  },
  {
   "cell_type": "code",
   "execution_count": 10,
   "metadata": {},
   "outputs": [],
   "source": [
    "labels = all_scores[['label']]\n",
    "main_scores = all_scores.drop(['label'], axis=1)\n",
    "scores = shuffle(all_scores)\n",
    "X = scores.iloc[:,0:-1]\n",
    "y = scores.iloc[:,-1]\n",
    "X_train, X_test, y_train, y_test = train_test_split(main_scores,labels, test_size=0.2, random_state=42, shuffle=True)"
   ]
  },
  {
   "cell_type": "code",
   "execution_count": 11,
   "metadata": {},
   "outputs": [],
   "source": [
    "## Feature Scaling\n",
    "\n",
    "sc_X = StandardScaler()\n",
    "X_train = sc_X.fit_transform(X_train)\n",
    "X_test = sc_X.transform(X_test)\n",
    "\n",
    "X_scaled = sc_X.fit_transform(X)"
   ]
  },
  {
   "cell_type": "code",
   "execution_count": 12,
   "metadata": {},
   "outputs": [
    {
     "data": {
      "text/plain": [
       "0.3333333333333333"
      ]
     },
     "execution_count": 12,
     "metadata": {},
     "output_type": "execute_result"
    }
   ],
   "source": [
    "\n",
    "clf = svm.SVC(kernel='rbf')\n",
    "clf.fit(X_train, y_train.values.ravel())\n",
    "clf_predict = clf.predict(X_test)\n",
    "\n",
    "confusion_matrix(y_test,clf_predict)\n",
    "accuracy_score(y_test,clf_predict)"
   ]
  },
  {
   "cell_type": "code",
   "execution_count": 13,
   "metadata": {},
   "outputs": [
    {
     "data": {
      "text/plain": [
       "0.6666666666666666"
      ]
     },
     "execution_count": 13,
     "metadata": {},
     "output_type": "execute_result"
    }
   ],
   "source": [
    "\n",
    "clf = OneVsRestClassifier(LinearSVC(random_state=0))\n",
    "clf_fit = clf.fit(X_train,y_train)\n",
    "predict = clf_fit.predict(X_test)\n",
    "\n",
    "confusion_matrix(y_test,predict)\n",
    "accuracy_score(y_test,predict)\n",
    "#"
   ]
  },
  {
   "cell_type": "code",
   "execution_count": 14,
   "metadata": {},
   "outputs": [
    {
     "name": "stderr",
     "output_type": "stream",
     "text": [
      "/home/rajarshi07/Downloads/TP_Pruthvi/venv/lib/python3.10/site-packages/sklearn/utils/validation.py:993: DataConversionWarning: A column-vector y was passed when a 1d array was expected. Please change the shape of y to (n_samples, ), for example using ravel().\n",
      "  y = column_or_1d(y, warn=True)\n"
     ]
    },
    {
     "data": {
      "text/plain": [
       "0.6666666666666666"
      ]
     },
     "execution_count": 14,
     "metadata": {},
     "output_type": "execute_result"
    }
   ],
   "source": [
    "clf1 = OneVsOneClassifier(LinearSVC(C=100.))\n",
    "clf1.fit(X_train,y_train)\n",
    "clf1_predict = clf1.predict(X_test)\n",
    "\n",
    "confusion_matrix(y_test,clf1_predict)\n",
    "accuracy_score(y_test,clf1_predict)"
   ]
  },
  {
   "cell_type": "code",
   "execution_count": 15,
   "metadata": {},
   "outputs": [
    {
     "name": "stderr",
     "output_type": "stream",
     "text": [
      "/home/rajarshi07/Downloads/TP_Pruthvi/venv/lib/python3.10/site-packages/sklearn/utils/validation.py:993: DataConversionWarning: A column-vector y was passed when a 1d array was expected. Please change the shape of y to (n_samples, ), for example using ravel().\n",
      "  y = column_or_1d(y, warn=True)\n"
     ]
    },
    {
     "data": {
      "text/plain": [
       "0.6666666666666666"
      ]
     },
     "execution_count": 15,
     "metadata": {},
     "output_type": "execute_result"
    }
   ],
   "source": [
    "\n",
    "clf2 = OutputCodeClassifier(LinearSVC(C=100.), code_size=2, random_state=0)\n",
    "clf2.fit(X_train,y_train)\n",
    "clf2_predict = clf2.predict(X_test)\n",
    "\n",
    "\n",
    "#cnf_matrix = confusion_matrix(y_test, predict)\n",
    "#accuracy_score(y_test,predict)\n",
    "##\n",
    "##\n",
    "##confusion_matrix(y_test,clf1_predict)\n",
    "##accuracy_score(y_test,clf1_predict)\n",
    "##\n",
    "confusion_matrix(y_test,clf2_predict)\n",
    "accuracy_score(y_test,clf2_predict)\n",
    "##"
   ]
  },
  {
   "cell_type": "code",
   "execution_count": 16,
   "metadata": {},
   "outputs": [
    {
     "name": "stderr",
     "output_type": "stream",
     "text": [
      "/home/rajarshi07/Downloads/TP_Pruthvi/venv/lib/python3.10/site-packages/sklearn/utils/validation.py:993: DataConversionWarning: A column-vector y was passed when a 1d array was expected. Please change the shape of y to (n_samples, ), for example using ravel().\n",
      "  y = column_or_1d(y, warn=True)\n"
     ]
    },
    {
     "data": {
      "text/plain": [
       "0.3333333333333333"
      ]
     },
     "execution_count": 16,
     "metadata": {},
     "output_type": "execute_result"
    }
   ],
   "source": [
    "\n",
    "clf3 = BernoulliNB()\n",
    "clf3.fit(X_train, y_train)\n",
    "clf3_predict = clf3.predict(X_test)\n",
    "\n",
    "confusion_matrix(y_test,clf3_predict)\n",
    "accuracy_score(y_test,clf3_predict)\n",
    "##"
   ]
  },
  {
   "cell_type": "code",
   "execution_count": 17,
   "metadata": {},
   "outputs": [
    {
     "name": "stderr",
     "output_type": "stream",
     "text": [
      "/tmp/ipykernel_4284/2748074478.py:2: DataConversionWarning: A column-vector y was passed when a 1d array was expected. Please change the shape of y to (n_samples,), for example using ravel().\n",
      "  forest.fit(X_train,y_train)\n"
     ]
    },
    {
     "data": {
      "text/plain": [
       "0.3333333333333333"
      ]
     },
     "execution_count": 17,
     "metadata": {},
     "output_type": "execute_result"
    }
   ],
   "source": [
    "\n",
    "forest = RandomForestClassifier(n_estimators=100, random_state=1)\n",
    "forest.fit(X_train,y_train)\n",
    "clf4_predict = forest.predict(X_test) \n",
    "\n",
    "confusion_matrix(y_test,clf4_predict)\n",
    "accuracy_score(y_test,clf4_predict)\n",
    "#"
   ]
  },
  {
   "cell_type": "code",
   "execution_count": 18,
   "metadata": {},
   "outputs": [
    {
     "ename": "ValueError",
     "evalue": "n_splits=10 cannot be greater than the number of members in each class.",
     "output_type": "error",
     "traceback": [
      "\u001b[0;31m---------------------------------------------------------------------------\u001b[0m",
      "\u001b[0;31mEmpty\u001b[0m                                     Traceback (most recent call last)",
      "File \u001b[0;32m~/Downloads/TP_Pruthvi/venv/lib/python3.10/site-packages/joblib/parallel.py:822\u001b[0m, in \u001b[0;36mParallel.dispatch_one_batch\u001b[0;34m(self, iterator)\u001b[0m\n\u001b[1;32m    <a href='file:///home/rajarshi07/Downloads/TP_Pruthvi/venv/lib/python3.10/site-packages/joblib/parallel.py?line=820'>821</a>\u001b[0m \u001b[39mtry\u001b[39;00m:\n\u001b[0;32m--> <a href='file:///home/rajarshi07/Downloads/TP_Pruthvi/venv/lib/python3.10/site-packages/joblib/parallel.py?line=821'>822</a>\u001b[0m     tasks \u001b[39m=\u001b[39m \u001b[39mself\u001b[39;49m\u001b[39m.\u001b[39;49m_ready_batches\u001b[39m.\u001b[39;49mget(block\u001b[39m=\u001b[39;49m\u001b[39mFalse\u001b[39;49;00m)\n\u001b[1;32m    <a href='file:///home/rajarshi07/Downloads/TP_Pruthvi/venv/lib/python3.10/site-packages/joblib/parallel.py?line=822'>823</a>\u001b[0m \u001b[39mexcept\u001b[39;00m queue\u001b[39m.\u001b[39mEmpty:\n\u001b[1;32m    <a href='file:///home/rajarshi07/Downloads/TP_Pruthvi/venv/lib/python3.10/site-packages/joblib/parallel.py?line=823'>824</a>\u001b[0m     \u001b[39m# slice the iterator n_jobs * batchsize items at a time. If the\u001b[39;00m\n\u001b[1;32m    <a href='file:///home/rajarshi07/Downloads/TP_Pruthvi/venv/lib/python3.10/site-packages/joblib/parallel.py?line=824'>825</a>\u001b[0m     \u001b[39m# slice returns less than that, then the current batchsize puts\u001b[39;00m\n\u001b[0;32m   (...)\u001b[0m\n\u001b[1;32m    <a href='file:///home/rajarshi07/Downloads/TP_Pruthvi/venv/lib/python3.10/site-packages/joblib/parallel.py?line=827'>828</a>\u001b[0m     \u001b[39m# accordingly to distribute evenly the last items between all\u001b[39;00m\n\u001b[1;32m    <a href='file:///home/rajarshi07/Downloads/TP_Pruthvi/venv/lib/python3.10/site-packages/joblib/parallel.py?line=828'>829</a>\u001b[0m     \u001b[39m# workers.\u001b[39;00m\n",
      "File \u001b[0;32m/usr/lib/python3.10/queue.py:168\u001b[0m, in \u001b[0;36mQueue.get\u001b[0;34m(self, block, timeout)\u001b[0m\n\u001b[1;32m    <a href='file:///usr/lib/python3.10/queue.py?line=166'>167</a>\u001b[0m     \u001b[39mif\u001b[39;00m \u001b[39mnot\u001b[39;00m \u001b[39mself\u001b[39m\u001b[39m.\u001b[39m_qsize():\n\u001b[0;32m--> <a href='file:///usr/lib/python3.10/queue.py?line=167'>168</a>\u001b[0m         \u001b[39mraise\u001b[39;00m Empty\n\u001b[1;32m    <a href='file:///usr/lib/python3.10/queue.py?line=168'>169</a>\u001b[0m \u001b[39melif\u001b[39;00m timeout \u001b[39mis\u001b[39;00m \u001b[39mNone\u001b[39;00m:\n",
      "\u001b[0;31mEmpty\u001b[0m: ",
      "\nDuring handling of the above exception, another exception occurred:\n",
      "\u001b[0;31mValueError\u001b[0m                                Traceback (most recent call last)",
      "\u001b[1;32m/home/rajarshi07/Downloads/TP_Pruthvi/classify.ipynb Cell 13'\u001b[0m in \u001b[0;36m<cell line: 3>\u001b[0;34m()\u001b[0m\n\u001b[1;32m      <a href='vscode-notebook-cell:/home/rajarshi07/Downloads/TP_Pruthvi/classify.ipynb#ch0000012?line=0'>1</a>\u001b[0m \u001b[39mfrom\u001b[39;00m \u001b[39msklearn\u001b[39;00m\u001b[39m.\u001b[39;00m\u001b[39mmodel_selection\u001b[39;00m \u001b[39mimport\u001b[39;00m cross_val_score\n\u001b[1;32m      <a href='vscode-notebook-cell:/home/rajarshi07/Downloads/TP_Pruthvi/classify.ipynb#ch0000012?line=1'>2</a>\u001b[0m knn \u001b[39m=\u001b[39m KNeighborsClassifier(n_neighbors\u001b[39m=\u001b[39m\u001b[39m5\u001b[39m)\n\u001b[0;32m----> <a href='vscode-notebook-cell:/home/rajarshi07/Downloads/TP_Pruthvi/classify.ipynb#ch0000012?line=2'>3</a>\u001b[0m cross_scores \u001b[39m=\u001b[39m cross_val_score(knn, X_scaled, y, cv\u001b[39m=\u001b[39;49m\u001b[39m10\u001b[39;49m, scoring\u001b[39m=\u001b[39;49m\u001b[39m'\u001b[39;49m\u001b[39mf1\u001b[39;49m\u001b[39m'\u001b[39;49m)\n\u001b[1;32m      <a href='vscode-notebook-cell:/home/rajarshi07/Downloads/TP_Pruthvi/classify.ipynb#ch0000012?line=3'>4</a>\u001b[0m \u001b[39mprint\u001b[39m(cross_scores\u001b[39m.\u001b[39mmean())\n\u001b[1;32m      <a href='vscode-notebook-cell:/home/rajarshi07/Downloads/TP_Pruthvi/classify.ipynb#ch0000012?line=6'>7</a>\u001b[0m cross_scores \u001b[39m=\u001b[39m cross_val_score(forest, X_scaled, y, cv\u001b[39m=\u001b[39m\u001b[39m10\u001b[39m, scoring\u001b[39m=\u001b[39m\u001b[39m'\u001b[39m\u001b[39maccuracy\u001b[39m\u001b[39m'\u001b[39m)\n",
      "File \u001b[0;32m~/Downloads/TP_Pruthvi/venv/lib/python3.10/site-packages/sklearn/model_selection/_validation.py:509\u001b[0m, in \u001b[0;36mcross_val_score\u001b[0;34m(estimator, X, y, groups, scoring, cv, n_jobs, verbose, fit_params, pre_dispatch, error_score)\u001b[0m\n\u001b[1;32m    <a href='file:///home/rajarshi07/Downloads/TP_Pruthvi/venv/lib/python3.10/site-packages/sklearn/model_selection/_validation.py?line=505'>506</a>\u001b[0m \u001b[39m# To ensure multimetric format is not supported\u001b[39;00m\n\u001b[1;32m    <a href='file:///home/rajarshi07/Downloads/TP_Pruthvi/venv/lib/python3.10/site-packages/sklearn/model_selection/_validation.py?line=506'>507</a>\u001b[0m scorer \u001b[39m=\u001b[39m check_scoring(estimator, scoring\u001b[39m=\u001b[39mscoring)\n\u001b[0;32m--> <a href='file:///home/rajarshi07/Downloads/TP_Pruthvi/venv/lib/python3.10/site-packages/sklearn/model_selection/_validation.py?line=508'>509</a>\u001b[0m cv_results \u001b[39m=\u001b[39m cross_validate(\n\u001b[1;32m    <a href='file:///home/rajarshi07/Downloads/TP_Pruthvi/venv/lib/python3.10/site-packages/sklearn/model_selection/_validation.py?line=509'>510</a>\u001b[0m     estimator\u001b[39m=\u001b[39;49mestimator,\n\u001b[1;32m    <a href='file:///home/rajarshi07/Downloads/TP_Pruthvi/venv/lib/python3.10/site-packages/sklearn/model_selection/_validation.py?line=510'>511</a>\u001b[0m     X\u001b[39m=\u001b[39;49mX,\n\u001b[1;32m    <a href='file:///home/rajarshi07/Downloads/TP_Pruthvi/venv/lib/python3.10/site-packages/sklearn/model_selection/_validation.py?line=511'>512</a>\u001b[0m     y\u001b[39m=\u001b[39;49my,\n\u001b[1;32m    <a href='file:///home/rajarshi07/Downloads/TP_Pruthvi/venv/lib/python3.10/site-packages/sklearn/model_selection/_validation.py?line=512'>513</a>\u001b[0m     groups\u001b[39m=\u001b[39;49mgroups,\n\u001b[1;32m    <a href='file:///home/rajarshi07/Downloads/TP_Pruthvi/venv/lib/python3.10/site-packages/sklearn/model_selection/_validation.py?line=513'>514</a>\u001b[0m     scoring\u001b[39m=\u001b[39;49m{\u001b[39m\"\u001b[39;49m\u001b[39mscore\u001b[39;49m\u001b[39m\"\u001b[39;49m: scorer},\n\u001b[1;32m    <a href='file:///home/rajarshi07/Downloads/TP_Pruthvi/venv/lib/python3.10/site-packages/sklearn/model_selection/_validation.py?line=514'>515</a>\u001b[0m     cv\u001b[39m=\u001b[39;49mcv,\n\u001b[1;32m    <a href='file:///home/rajarshi07/Downloads/TP_Pruthvi/venv/lib/python3.10/site-packages/sklearn/model_selection/_validation.py?line=515'>516</a>\u001b[0m     n_jobs\u001b[39m=\u001b[39;49mn_jobs,\n\u001b[1;32m    <a href='file:///home/rajarshi07/Downloads/TP_Pruthvi/venv/lib/python3.10/site-packages/sklearn/model_selection/_validation.py?line=516'>517</a>\u001b[0m     verbose\u001b[39m=\u001b[39;49mverbose,\n\u001b[1;32m    <a href='file:///home/rajarshi07/Downloads/TP_Pruthvi/venv/lib/python3.10/site-packages/sklearn/model_selection/_validation.py?line=517'>518</a>\u001b[0m     fit_params\u001b[39m=\u001b[39;49mfit_params,\n\u001b[1;32m    <a href='file:///home/rajarshi07/Downloads/TP_Pruthvi/venv/lib/python3.10/site-packages/sklearn/model_selection/_validation.py?line=518'>519</a>\u001b[0m     pre_dispatch\u001b[39m=\u001b[39;49mpre_dispatch,\n\u001b[1;32m    <a href='file:///home/rajarshi07/Downloads/TP_Pruthvi/venv/lib/python3.10/site-packages/sklearn/model_selection/_validation.py?line=519'>520</a>\u001b[0m     error_score\u001b[39m=\u001b[39;49merror_score,\n\u001b[1;32m    <a href='file:///home/rajarshi07/Downloads/TP_Pruthvi/venv/lib/python3.10/site-packages/sklearn/model_selection/_validation.py?line=520'>521</a>\u001b[0m )\n\u001b[1;32m    <a href='file:///home/rajarshi07/Downloads/TP_Pruthvi/venv/lib/python3.10/site-packages/sklearn/model_selection/_validation.py?line=521'>522</a>\u001b[0m \u001b[39mreturn\u001b[39;00m cv_results[\u001b[39m\"\u001b[39m\u001b[39mtest_score\u001b[39m\u001b[39m\"\u001b[39m]\n",
      "File \u001b[0;32m~/Downloads/TP_Pruthvi/venv/lib/python3.10/site-packages/sklearn/model_selection/_validation.py:267\u001b[0m, in \u001b[0;36mcross_validate\u001b[0;34m(estimator, X, y, groups, scoring, cv, n_jobs, verbose, fit_params, pre_dispatch, return_train_score, return_estimator, error_score)\u001b[0m\n\u001b[1;32m    <a href='file:///home/rajarshi07/Downloads/TP_Pruthvi/venv/lib/python3.10/site-packages/sklearn/model_selection/_validation.py?line=263'>264</a>\u001b[0m \u001b[39m# We clone the estimator to make sure that all the folds are\u001b[39;00m\n\u001b[1;32m    <a href='file:///home/rajarshi07/Downloads/TP_Pruthvi/venv/lib/python3.10/site-packages/sklearn/model_selection/_validation.py?line=264'>265</a>\u001b[0m \u001b[39m# independent, and that it is pickle-able.\u001b[39;00m\n\u001b[1;32m    <a href='file:///home/rajarshi07/Downloads/TP_Pruthvi/venv/lib/python3.10/site-packages/sklearn/model_selection/_validation.py?line=265'>266</a>\u001b[0m parallel \u001b[39m=\u001b[39m Parallel(n_jobs\u001b[39m=\u001b[39mn_jobs, verbose\u001b[39m=\u001b[39mverbose, pre_dispatch\u001b[39m=\u001b[39mpre_dispatch)\n\u001b[0;32m--> <a href='file:///home/rajarshi07/Downloads/TP_Pruthvi/venv/lib/python3.10/site-packages/sklearn/model_selection/_validation.py?line=266'>267</a>\u001b[0m results \u001b[39m=\u001b[39m parallel(\n\u001b[1;32m    <a href='file:///home/rajarshi07/Downloads/TP_Pruthvi/venv/lib/python3.10/site-packages/sklearn/model_selection/_validation.py?line=267'>268</a>\u001b[0m     delayed(_fit_and_score)(\n\u001b[1;32m    <a href='file:///home/rajarshi07/Downloads/TP_Pruthvi/venv/lib/python3.10/site-packages/sklearn/model_selection/_validation.py?line=268'>269</a>\u001b[0m         clone(estimator),\n\u001b[1;32m    <a href='file:///home/rajarshi07/Downloads/TP_Pruthvi/venv/lib/python3.10/site-packages/sklearn/model_selection/_validation.py?line=269'>270</a>\u001b[0m         X,\n\u001b[1;32m    <a href='file:///home/rajarshi07/Downloads/TP_Pruthvi/venv/lib/python3.10/site-packages/sklearn/model_selection/_validation.py?line=270'>271</a>\u001b[0m         y,\n\u001b[1;32m    <a href='file:///home/rajarshi07/Downloads/TP_Pruthvi/venv/lib/python3.10/site-packages/sklearn/model_selection/_validation.py?line=271'>272</a>\u001b[0m         scorers,\n\u001b[1;32m    <a href='file:///home/rajarshi07/Downloads/TP_Pruthvi/venv/lib/python3.10/site-packages/sklearn/model_selection/_validation.py?line=272'>273</a>\u001b[0m         train,\n\u001b[1;32m    <a href='file:///home/rajarshi07/Downloads/TP_Pruthvi/venv/lib/python3.10/site-packages/sklearn/model_selection/_validation.py?line=273'>274</a>\u001b[0m         test,\n\u001b[1;32m    <a href='file:///home/rajarshi07/Downloads/TP_Pruthvi/venv/lib/python3.10/site-packages/sklearn/model_selection/_validation.py?line=274'>275</a>\u001b[0m         verbose,\n\u001b[1;32m    <a href='file:///home/rajarshi07/Downloads/TP_Pruthvi/venv/lib/python3.10/site-packages/sklearn/model_selection/_validation.py?line=275'>276</a>\u001b[0m         \u001b[39mNone\u001b[39;49;00m,\n\u001b[1;32m    <a href='file:///home/rajarshi07/Downloads/TP_Pruthvi/venv/lib/python3.10/site-packages/sklearn/model_selection/_validation.py?line=276'>277</a>\u001b[0m         fit_params,\n\u001b[1;32m    <a href='file:///home/rajarshi07/Downloads/TP_Pruthvi/venv/lib/python3.10/site-packages/sklearn/model_selection/_validation.py?line=277'>278</a>\u001b[0m         return_train_score\u001b[39m=\u001b[39;49mreturn_train_score,\n\u001b[1;32m    <a href='file:///home/rajarshi07/Downloads/TP_Pruthvi/venv/lib/python3.10/site-packages/sklearn/model_selection/_validation.py?line=278'>279</a>\u001b[0m         return_times\u001b[39m=\u001b[39;49m\u001b[39mTrue\u001b[39;49;00m,\n\u001b[1;32m    <a href='file:///home/rajarshi07/Downloads/TP_Pruthvi/venv/lib/python3.10/site-packages/sklearn/model_selection/_validation.py?line=279'>280</a>\u001b[0m         return_estimator\u001b[39m=\u001b[39;49mreturn_estimator,\n\u001b[1;32m    <a href='file:///home/rajarshi07/Downloads/TP_Pruthvi/venv/lib/python3.10/site-packages/sklearn/model_selection/_validation.py?line=280'>281</a>\u001b[0m         error_score\u001b[39m=\u001b[39;49merror_score,\n\u001b[1;32m    <a href='file:///home/rajarshi07/Downloads/TP_Pruthvi/venv/lib/python3.10/site-packages/sklearn/model_selection/_validation.py?line=281'>282</a>\u001b[0m     )\n\u001b[1;32m    <a href='file:///home/rajarshi07/Downloads/TP_Pruthvi/venv/lib/python3.10/site-packages/sklearn/model_selection/_validation.py?line=282'>283</a>\u001b[0m     \u001b[39mfor\u001b[39;49;00m train, test \u001b[39min\u001b[39;49;00m cv\u001b[39m.\u001b[39;49msplit(X, y, groups)\n\u001b[1;32m    <a href='file:///home/rajarshi07/Downloads/TP_Pruthvi/venv/lib/python3.10/site-packages/sklearn/model_selection/_validation.py?line=283'>284</a>\u001b[0m )\n\u001b[1;32m    <a href='file:///home/rajarshi07/Downloads/TP_Pruthvi/venv/lib/python3.10/site-packages/sklearn/model_selection/_validation.py?line=285'>286</a>\u001b[0m _warn_about_fit_failures(results, error_score)\n\u001b[1;32m    <a href='file:///home/rajarshi07/Downloads/TP_Pruthvi/venv/lib/python3.10/site-packages/sklearn/model_selection/_validation.py?line=287'>288</a>\u001b[0m \u001b[39m# For callabe scoring, the return type is only know after calling. If the\u001b[39;00m\n\u001b[1;32m    <a href='file:///home/rajarshi07/Downloads/TP_Pruthvi/venv/lib/python3.10/site-packages/sklearn/model_selection/_validation.py?line=288'>289</a>\u001b[0m \u001b[39m# return type is a dictionary, the error scores can now be inserted with\u001b[39;00m\n\u001b[1;32m    <a href='file:///home/rajarshi07/Downloads/TP_Pruthvi/venv/lib/python3.10/site-packages/sklearn/model_selection/_validation.py?line=289'>290</a>\u001b[0m \u001b[39m# the correct key.\u001b[39;00m\n",
      "File \u001b[0;32m~/Downloads/TP_Pruthvi/venv/lib/python3.10/site-packages/joblib/parallel.py:1043\u001b[0m, in \u001b[0;36mParallel.__call__\u001b[0;34m(self, iterable)\u001b[0m\n\u001b[1;32m   <a href='file:///home/rajarshi07/Downloads/TP_Pruthvi/venv/lib/python3.10/site-packages/joblib/parallel.py?line=1033'>1034</a>\u001b[0m \u001b[39mtry\u001b[39;00m:\n\u001b[1;32m   <a href='file:///home/rajarshi07/Downloads/TP_Pruthvi/venv/lib/python3.10/site-packages/joblib/parallel.py?line=1034'>1035</a>\u001b[0m     \u001b[39m# Only set self._iterating to True if at least a batch\u001b[39;00m\n\u001b[1;32m   <a href='file:///home/rajarshi07/Downloads/TP_Pruthvi/venv/lib/python3.10/site-packages/joblib/parallel.py?line=1035'>1036</a>\u001b[0m     \u001b[39m# was dispatched. In particular this covers the edge\u001b[39;00m\n\u001b[0;32m   (...)\u001b[0m\n\u001b[1;32m   <a href='file:///home/rajarshi07/Downloads/TP_Pruthvi/venv/lib/python3.10/site-packages/joblib/parallel.py?line=1039'>1040</a>\u001b[0m     \u001b[39m# was very quick and its callback already dispatched all the\u001b[39;00m\n\u001b[1;32m   <a href='file:///home/rajarshi07/Downloads/TP_Pruthvi/venv/lib/python3.10/site-packages/joblib/parallel.py?line=1040'>1041</a>\u001b[0m     \u001b[39m# remaining jobs.\u001b[39;00m\n\u001b[1;32m   <a href='file:///home/rajarshi07/Downloads/TP_Pruthvi/venv/lib/python3.10/site-packages/joblib/parallel.py?line=1041'>1042</a>\u001b[0m     \u001b[39mself\u001b[39m\u001b[39m.\u001b[39m_iterating \u001b[39m=\u001b[39m \u001b[39mFalse\u001b[39;00m\n\u001b[0;32m-> <a href='file:///home/rajarshi07/Downloads/TP_Pruthvi/venv/lib/python3.10/site-packages/joblib/parallel.py?line=1042'>1043</a>\u001b[0m     \u001b[39mif\u001b[39;00m \u001b[39mself\u001b[39;49m\u001b[39m.\u001b[39;49mdispatch_one_batch(iterator):\n\u001b[1;32m   <a href='file:///home/rajarshi07/Downloads/TP_Pruthvi/venv/lib/python3.10/site-packages/joblib/parallel.py?line=1043'>1044</a>\u001b[0m         \u001b[39mself\u001b[39m\u001b[39m.\u001b[39m_iterating \u001b[39m=\u001b[39m \u001b[39mself\u001b[39m\u001b[39m.\u001b[39m_original_iterator \u001b[39mis\u001b[39;00m \u001b[39mnot\u001b[39;00m \u001b[39mNone\u001b[39;00m\n\u001b[1;32m   <a href='file:///home/rajarshi07/Downloads/TP_Pruthvi/venv/lib/python3.10/site-packages/joblib/parallel.py?line=1045'>1046</a>\u001b[0m     \u001b[39mwhile\u001b[39;00m \u001b[39mself\u001b[39m\u001b[39m.\u001b[39mdispatch_one_batch(iterator):\n",
      "File \u001b[0;32m~/Downloads/TP_Pruthvi/venv/lib/python3.10/site-packages/joblib/parallel.py:833\u001b[0m, in \u001b[0;36mParallel.dispatch_one_batch\u001b[0;34m(self, iterator)\u001b[0m\n\u001b[1;32m    <a href='file:///home/rajarshi07/Downloads/TP_Pruthvi/venv/lib/python3.10/site-packages/joblib/parallel.py?line=829'>830</a>\u001b[0m n_jobs \u001b[39m=\u001b[39m \u001b[39mself\u001b[39m\u001b[39m.\u001b[39m_cached_effective_n_jobs\n\u001b[1;32m    <a href='file:///home/rajarshi07/Downloads/TP_Pruthvi/venv/lib/python3.10/site-packages/joblib/parallel.py?line=830'>831</a>\u001b[0m big_batch_size \u001b[39m=\u001b[39m batch_size \u001b[39m*\u001b[39m n_jobs\n\u001b[0;32m--> <a href='file:///home/rajarshi07/Downloads/TP_Pruthvi/venv/lib/python3.10/site-packages/joblib/parallel.py?line=832'>833</a>\u001b[0m islice \u001b[39m=\u001b[39m \u001b[39mlist\u001b[39;49m(itertools\u001b[39m.\u001b[39;49mislice(iterator, big_batch_size))\n\u001b[1;32m    <a href='file:///home/rajarshi07/Downloads/TP_Pruthvi/venv/lib/python3.10/site-packages/joblib/parallel.py?line=833'>834</a>\u001b[0m \u001b[39mif\u001b[39;00m \u001b[39mlen\u001b[39m(islice) \u001b[39m==\u001b[39m \u001b[39m0\u001b[39m:\n\u001b[1;32m    <a href='file:///home/rajarshi07/Downloads/TP_Pruthvi/venv/lib/python3.10/site-packages/joblib/parallel.py?line=834'>835</a>\u001b[0m     \u001b[39mreturn\u001b[39;00m \u001b[39mFalse\u001b[39;00m\n",
      "File \u001b[0;32m~/Downloads/TP_Pruthvi/venv/lib/python3.10/site-packages/sklearn/model_selection/_validation.py:267\u001b[0m, in \u001b[0;36m<genexpr>\u001b[0;34m(.0)\u001b[0m\n\u001b[1;32m    <a href='file:///home/rajarshi07/Downloads/TP_Pruthvi/venv/lib/python3.10/site-packages/sklearn/model_selection/_validation.py?line=263'>264</a>\u001b[0m \u001b[39m# We clone the estimator to make sure that all the folds are\u001b[39;00m\n\u001b[1;32m    <a href='file:///home/rajarshi07/Downloads/TP_Pruthvi/venv/lib/python3.10/site-packages/sklearn/model_selection/_validation.py?line=264'>265</a>\u001b[0m \u001b[39m# independent, and that it is pickle-able.\u001b[39;00m\n\u001b[1;32m    <a href='file:///home/rajarshi07/Downloads/TP_Pruthvi/venv/lib/python3.10/site-packages/sklearn/model_selection/_validation.py?line=265'>266</a>\u001b[0m parallel \u001b[39m=\u001b[39m Parallel(n_jobs\u001b[39m=\u001b[39mn_jobs, verbose\u001b[39m=\u001b[39mverbose, pre_dispatch\u001b[39m=\u001b[39mpre_dispatch)\n\u001b[0;32m--> <a href='file:///home/rajarshi07/Downloads/TP_Pruthvi/venv/lib/python3.10/site-packages/sklearn/model_selection/_validation.py?line=266'>267</a>\u001b[0m results \u001b[39m=\u001b[39m parallel(\n\u001b[1;32m    <a href='file:///home/rajarshi07/Downloads/TP_Pruthvi/venv/lib/python3.10/site-packages/sklearn/model_selection/_validation.py?line=267'>268</a>\u001b[0m     delayed(_fit_and_score)(\n\u001b[1;32m    <a href='file:///home/rajarshi07/Downloads/TP_Pruthvi/venv/lib/python3.10/site-packages/sklearn/model_selection/_validation.py?line=268'>269</a>\u001b[0m         clone(estimator),\n\u001b[1;32m    <a href='file:///home/rajarshi07/Downloads/TP_Pruthvi/venv/lib/python3.10/site-packages/sklearn/model_selection/_validation.py?line=269'>270</a>\u001b[0m         X,\n\u001b[1;32m    <a href='file:///home/rajarshi07/Downloads/TP_Pruthvi/venv/lib/python3.10/site-packages/sklearn/model_selection/_validation.py?line=270'>271</a>\u001b[0m         y,\n\u001b[1;32m    <a href='file:///home/rajarshi07/Downloads/TP_Pruthvi/venv/lib/python3.10/site-packages/sklearn/model_selection/_validation.py?line=271'>272</a>\u001b[0m         scorers,\n\u001b[1;32m    <a href='file:///home/rajarshi07/Downloads/TP_Pruthvi/venv/lib/python3.10/site-packages/sklearn/model_selection/_validation.py?line=272'>273</a>\u001b[0m         train,\n\u001b[1;32m    <a href='file:///home/rajarshi07/Downloads/TP_Pruthvi/venv/lib/python3.10/site-packages/sklearn/model_selection/_validation.py?line=273'>274</a>\u001b[0m         test,\n\u001b[1;32m    <a href='file:///home/rajarshi07/Downloads/TP_Pruthvi/venv/lib/python3.10/site-packages/sklearn/model_selection/_validation.py?line=274'>275</a>\u001b[0m         verbose,\n\u001b[1;32m    <a href='file:///home/rajarshi07/Downloads/TP_Pruthvi/venv/lib/python3.10/site-packages/sklearn/model_selection/_validation.py?line=275'>276</a>\u001b[0m         \u001b[39mNone\u001b[39;00m,\n\u001b[1;32m    <a href='file:///home/rajarshi07/Downloads/TP_Pruthvi/venv/lib/python3.10/site-packages/sklearn/model_selection/_validation.py?line=276'>277</a>\u001b[0m         fit_params,\n\u001b[1;32m    <a href='file:///home/rajarshi07/Downloads/TP_Pruthvi/venv/lib/python3.10/site-packages/sklearn/model_selection/_validation.py?line=277'>278</a>\u001b[0m         return_train_score\u001b[39m=\u001b[39mreturn_train_score,\n\u001b[1;32m    <a href='file:///home/rajarshi07/Downloads/TP_Pruthvi/venv/lib/python3.10/site-packages/sklearn/model_selection/_validation.py?line=278'>279</a>\u001b[0m         return_times\u001b[39m=\u001b[39m\u001b[39mTrue\u001b[39;00m,\n\u001b[1;32m    <a href='file:///home/rajarshi07/Downloads/TP_Pruthvi/venv/lib/python3.10/site-packages/sklearn/model_selection/_validation.py?line=279'>280</a>\u001b[0m         return_estimator\u001b[39m=\u001b[39mreturn_estimator,\n\u001b[1;32m    <a href='file:///home/rajarshi07/Downloads/TP_Pruthvi/venv/lib/python3.10/site-packages/sklearn/model_selection/_validation.py?line=280'>281</a>\u001b[0m         error_score\u001b[39m=\u001b[39merror_score,\n\u001b[1;32m    <a href='file:///home/rajarshi07/Downloads/TP_Pruthvi/venv/lib/python3.10/site-packages/sklearn/model_selection/_validation.py?line=281'>282</a>\u001b[0m     )\n\u001b[1;32m    <a href='file:///home/rajarshi07/Downloads/TP_Pruthvi/venv/lib/python3.10/site-packages/sklearn/model_selection/_validation.py?line=282'>283</a>\u001b[0m     \u001b[39mfor\u001b[39;00m train, test \u001b[39min\u001b[39;00m cv\u001b[39m.\u001b[39msplit(X, y, groups)\n\u001b[1;32m    <a href='file:///home/rajarshi07/Downloads/TP_Pruthvi/venv/lib/python3.10/site-packages/sklearn/model_selection/_validation.py?line=283'>284</a>\u001b[0m )\n\u001b[1;32m    <a href='file:///home/rajarshi07/Downloads/TP_Pruthvi/venv/lib/python3.10/site-packages/sklearn/model_selection/_validation.py?line=285'>286</a>\u001b[0m _warn_about_fit_failures(results, error_score)\n\u001b[1;32m    <a href='file:///home/rajarshi07/Downloads/TP_Pruthvi/venv/lib/python3.10/site-packages/sklearn/model_selection/_validation.py?line=287'>288</a>\u001b[0m \u001b[39m# For callabe scoring, the return type is only know after calling. If the\u001b[39;00m\n\u001b[1;32m    <a href='file:///home/rajarshi07/Downloads/TP_Pruthvi/venv/lib/python3.10/site-packages/sklearn/model_selection/_validation.py?line=288'>289</a>\u001b[0m \u001b[39m# return type is a dictionary, the error scores can now be inserted with\u001b[39;00m\n\u001b[1;32m    <a href='file:///home/rajarshi07/Downloads/TP_Pruthvi/venv/lib/python3.10/site-packages/sklearn/model_selection/_validation.py?line=289'>290</a>\u001b[0m \u001b[39m# the correct key.\u001b[39;00m\n",
      "File \u001b[0;32m~/Downloads/TP_Pruthvi/venv/lib/python3.10/site-packages/sklearn/model_selection/_split.py:340\u001b[0m, in \u001b[0;36m_BaseKFold.split\u001b[0;34m(self, X, y, groups)\u001b[0m\n\u001b[1;32m    <a href='file:///home/rajarshi07/Downloads/TP_Pruthvi/venv/lib/python3.10/site-packages/sklearn/model_selection/_split.py?line=331'>332</a>\u001b[0m \u001b[39mif\u001b[39;00m \u001b[39mself\u001b[39m\u001b[39m.\u001b[39mn_splits \u001b[39m>\u001b[39m n_samples:\n\u001b[1;32m    <a href='file:///home/rajarshi07/Downloads/TP_Pruthvi/venv/lib/python3.10/site-packages/sklearn/model_selection/_split.py?line=332'>333</a>\u001b[0m     \u001b[39mraise\u001b[39;00m \u001b[39mValueError\u001b[39;00m(\n\u001b[1;32m    <a href='file:///home/rajarshi07/Downloads/TP_Pruthvi/venv/lib/python3.10/site-packages/sklearn/model_selection/_split.py?line=333'>334</a>\u001b[0m         (\n\u001b[1;32m    <a href='file:///home/rajarshi07/Downloads/TP_Pruthvi/venv/lib/python3.10/site-packages/sklearn/model_selection/_split.py?line=334'>335</a>\u001b[0m             \u001b[39m\"\u001b[39m\u001b[39mCannot have number of splits n_splits=\u001b[39m\u001b[39m{0}\u001b[39;00m\u001b[39m greater\u001b[39m\u001b[39m\"\u001b[39m\n\u001b[1;32m    <a href='file:///home/rajarshi07/Downloads/TP_Pruthvi/venv/lib/python3.10/site-packages/sklearn/model_selection/_split.py?line=335'>336</a>\u001b[0m             \u001b[39m\"\u001b[39m\u001b[39m than the number of samples: n_samples=\u001b[39m\u001b[39m{1}\u001b[39;00m\u001b[39m.\u001b[39m\u001b[39m\"\u001b[39m\n\u001b[1;32m    <a href='file:///home/rajarshi07/Downloads/TP_Pruthvi/venv/lib/python3.10/site-packages/sklearn/model_selection/_split.py?line=336'>337</a>\u001b[0m         )\u001b[39m.\u001b[39mformat(\u001b[39mself\u001b[39m\u001b[39m.\u001b[39mn_splits, n_samples)\n\u001b[1;32m    <a href='file:///home/rajarshi07/Downloads/TP_Pruthvi/venv/lib/python3.10/site-packages/sklearn/model_selection/_split.py?line=337'>338</a>\u001b[0m     )\n\u001b[0;32m--> <a href='file:///home/rajarshi07/Downloads/TP_Pruthvi/venv/lib/python3.10/site-packages/sklearn/model_selection/_split.py?line=339'>340</a>\u001b[0m \u001b[39mfor\u001b[39;00m train, test \u001b[39min\u001b[39;00m \u001b[39msuper\u001b[39m()\u001b[39m.\u001b[39msplit(X, y, groups):\n\u001b[1;32m    <a href='file:///home/rajarshi07/Downloads/TP_Pruthvi/venv/lib/python3.10/site-packages/sklearn/model_selection/_split.py?line=340'>341</a>\u001b[0m     \u001b[39myield\u001b[39;00m train, test\n",
      "File \u001b[0;32m~/Downloads/TP_Pruthvi/venv/lib/python3.10/site-packages/sklearn/model_selection/_split.py:86\u001b[0m, in \u001b[0;36mBaseCrossValidator.split\u001b[0;34m(self, X, y, groups)\u001b[0m\n\u001b[1;32m     <a href='file:///home/rajarshi07/Downloads/TP_Pruthvi/venv/lib/python3.10/site-packages/sklearn/model_selection/_split.py?line=83'>84</a>\u001b[0m X, y, groups \u001b[39m=\u001b[39m indexable(X, y, groups)\n\u001b[1;32m     <a href='file:///home/rajarshi07/Downloads/TP_Pruthvi/venv/lib/python3.10/site-packages/sklearn/model_selection/_split.py?line=84'>85</a>\u001b[0m indices \u001b[39m=\u001b[39m np\u001b[39m.\u001b[39marange(_num_samples(X))\n\u001b[0;32m---> <a href='file:///home/rajarshi07/Downloads/TP_Pruthvi/venv/lib/python3.10/site-packages/sklearn/model_selection/_split.py?line=85'>86</a>\u001b[0m \u001b[39mfor\u001b[39;00m test_index \u001b[39min\u001b[39;00m \u001b[39mself\u001b[39m\u001b[39m.\u001b[39m_iter_test_masks(X, y, groups):\n\u001b[1;32m     <a href='file:///home/rajarshi07/Downloads/TP_Pruthvi/venv/lib/python3.10/site-packages/sklearn/model_selection/_split.py?line=86'>87</a>\u001b[0m     train_index \u001b[39m=\u001b[39m indices[np\u001b[39m.\u001b[39mlogical_not(test_index)]\n\u001b[1;32m     <a href='file:///home/rajarshi07/Downloads/TP_Pruthvi/venv/lib/python3.10/site-packages/sklearn/model_selection/_split.py?line=87'>88</a>\u001b[0m     test_index \u001b[39m=\u001b[39m indices[test_index]\n",
      "File \u001b[0;32m~/Downloads/TP_Pruthvi/venv/lib/python3.10/site-packages/sklearn/model_selection/_split.py:709\u001b[0m, in \u001b[0;36mStratifiedKFold._iter_test_masks\u001b[0;34m(self, X, y, groups)\u001b[0m\n\u001b[1;32m    <a href='file:///home/rajarshi07/Downloads/TP_Pruthvi/venv/lib/python3.10/site-packages/sklearn/model_selection/_split.py?line=707'>708</a>\u001b[0m \u001b[39mdef\u001b[39;00m \u001b[39m_iter_test_masks\u001b[39m(\u001b[39mself\u001b[39m, X, y\u001b[39m=\u001b[39m\u001b[39mNone\u001b[39;00m, groups\u001b[39m=\u001b[39m\u001b[39mNone\u001b[39;00m):\n\u001b[0;32m--> <a href='file:///home/rajarshi07/Downloads/TP_Pruthvi/venv/lib/python3.10/site-packages/sklearn/model_selection/_split.py?line=708'>709</a>\u001b[0m     test_folds \u001b[39m=\u001b[39m \u001b[39mself\u001b[39;49m\u001b[39m.\u001b[39;49m_make_test_folds(X, y)\n\u001b[1;32m    <a href='file:///home/rajarshi07/Downloads/TP_Pruthvi/venv/lib/python3.10/site-packages/sklearn/model_selection/_split.py?line=709'>710</a>\u001b[0m     \u001b[39mfor\u001b[39;00m i \u001b[39min\u001b[39;00m \u001b[39mrange\u001b[39m(\u001b[39mself\u001b[39m\u001b[39m.\u001b[39mn_splits):\n\u001b[1;32m    <a href='file:///home/rajarshi07/Downloads/TP_Pruthvi/venv/lib/python3.10/site-packages/sklearn/model_selection/_split.py?line=710'>711</a>\u001b[0m         \u001b[39myield\u001b[39;00m test_folds \u001b[39m==\u001b[39m i\n",
      "File \u001b[0;32m~/Downloads/TP_Pruthvi/venv/lib/python3.10/site-packages/sklearn/model_selection/_split.py:671\u001b[0m, in \u001b[0;36mStratifiedKFold._make_test_folds\u001b[0;34m(self, X, y)\u001b[0m\n\u001b[1;32m    <a href='file:///home/rajarshi07/Downloads/TP_Pruthvi/venv/lib/python3.10/site-packages/sklearn/model_selection/_split.py?line=668'>669</a>\u001b[0m min_groups \u001b[39m=\u001b[39m np\u001b[39m.\u001b[39mmin(y_counts)\n\u001b[1;32m    <a href='file:///home/rajarshi07/Downloads/TP_Pruthvi/venv/lib/python3.10/site-packages/sklearn/model_selection/_split.py?line=669'>670</a>\u001b[0m \u001b[39mif\u001b[39;00m np\u001b[39m.\u001b[39mall(\u001b[39mself\u001b[39m\u001b[39m.\u001b[39mn_splits \u001b[39m>\u001b[39m y_counts):\n\u001b[0;32m--> <a href='file:///home/rajarshi07/Downloads/TP_Pruthvi/venv/lib/python3.10/site-packages/sklearn/model_selection/_split.py?line=670'>671</a>\u001b[0m     \u001b[39mraise\u001b[39;00m \u001b[39mValueError\u001b[39;00m(\n\u001b[1;32m    <a href='file:///home/rajarshi07/Downloads/TP_Pruthvi/venv/lib/python3.10/site-packages/sklearn/model_selection/_split.py?line=671'>672</a>\u001b[0m         \u001b[39m\"\u001b[39m\u001b[39mn_splits=\u001b[39m\u001b[39m%d\u001b[39;00m\u001b[39m cannot be greater than the\u001b[39m\u001b[39m\"\u001b[39m\n\u001b[1;32m    <a href='file:///home/rajarshi07/Downloads/TP_Pruthvi/venv/lib/python3.10/site-packages/sklearn/model_selection/_split.py?line=672'>673</a>\u001b[0m         \u001b[39m\"\u001b[39m\u001b[39m number of members in each class.\u001b[39m\u001b[39m\"\u001b[39m \u001b[39m%\u001b[39m (\u001b[39mself\u001b[39m\u001b[39m.\u001b[39mn_splits)\n\u001b[1;32m    <a href='file:///home/rajarshi07/Downloads/TP_Pruthvi/venv/lib/python3.10/site-packages/sklearn/model_selection/_split.py?line=673'>674</a>\u001b[0m     )\n\u001b[1;32m    <a href='file:///home/rajarshi07/Downloads/TP_Pruthvi/venv/lib/python3.10/site-packages/sklearn/model_selection/_split.py?line=674'>675</a>\u001b[0m \u001b[39mif\u001b[39;00m \u001b[39mself\u001b[39m\u001b[39m.\u001b[39mn_splits \u001b[39m>\u001b[39m min_groups:\n\u001b[1;32m    <a href='file:///home/rajarshi07/Downloads/TP_Pruthvi/venv/lib/python3.10/site-packages/sklearn/model_selection/_split.py?line=675'>676</a>\u001b[0m     warnings\u001b[39m.\u001b[39mwarn(\n\u001b[1;32m    <a href='file:///home/rajarshi07/Downloads/TP_Pruthvi/venv/lib/python3.10/site-packages/sklearn/model_selection/_split.py?line=676'>677</a>\u001b[0m         \u001b[39m\"\u001b[39m\u001b[39mThe least populated class in y has only \u001b[39m\u001b[39m%d\u001b[39;00m\u001b[39m\"\u001b[39m\n\u001b[1;32m    <a href='file:///home/rajarshi07/Downloads/TP_Pruthvi/venv/lib/python3.10/site-packages/sklearn/model_selection/_split.py?line=677'>678</a>\u001b[0m         \u001b[39m\"\u001b[39m\u001b[39m members, which is less than n_splits=\u001b[39m\u001b[39m%d\u001b[39;00m\u001b[39m.\u001b[39m\u001b[39m\"\u001b[39m\n\u001b[1;32m    <a href='file:///home/rajarshi07/Downloads/TP_Pruthvi/venv/lib/python3.10/site-packages/sklearn/model_selection/_split.py?line=678'>679</a>\u001b[0m         \u001b[39m%\u001b[39m (min_groups, \u001b[39mself\u001b[39m\u001b[39m.\u001b[39mn_splits),\n\u001b[1;32m    <a href='file:///home/rajarshi07/Downloads/TP_Pruthvi/venv/lib/python3.10/site-packages/sklearn/model_selection/_split.py?line=679'>680</a>\u001b[0m         \u001b[39mUserWarning\u001b[39;00m,\n\u001b[1;32m    <a href='file:///home/rajarshi07/Downloads/TP_Pruthvi/venv/lib/python3.10/site-packages/sklearn/model_selection/_split.py?line=680'>681</a>\u001b[0m     )\n",
      "\u001b[0;31mValueError\u001b[0m: n_splits=10 cannot be greater than the number of members in each class."
     ]
    }
   ],
   "source": [
    "\n",
    "from sklearn.model_selection import cross_val_score\n",
    "knn = KNeighborsClassifier(n_neighbors=5)\n",
    "cross_scores = cross_val_score(knn, X_scaled, y, cv=10, scoring='f1')\n",
    "print(cross_scores.mean())\n",
    "\n",
    "\n",
    "cross_scores = cross_val_score(forest, X_scaled, y, cv=10, scoring='accuracy')\n",
    "print(cross_scores.mean())\n",
    "\n",
    "k_range = list(range(1, 31))\n",
    "k_scores = []\n",
    "\n",
    "for k in k_range:\n",
    "    knn = KNeighborsClassifier(n_neighbors=k)\n",
    "    croos_scores = cross_val_score(knn, X, y, cv=10, scoring='accuracy')\n",
    "    k_scores.append(cross_scores.mean())\n",
    "print(k_scores)\n",
    "\n",
    "\n",
    "k_range = list(range(100, 301))\n",
    "k_scores = []\n",
    "\n",
    "for k in k_range:\n",
    "    forest = RandomForestClassifier(n_estimators=k, random_state=1)\n",
    "    croos_scores = cross_val_score(forest, X_scaled, y, cv=10, scoring='accuracy')\n",
    "    k_scores.append(cross_scores.mean())\n",
    "print(k_scores)\n",
    "\n"
   ]
  },
  {
   "cell_type": "code",
   "execution_count": 19,
   "metadata": {},
   "outputs": [
    {
     "data": {
      "image/png": "[encoded data removed]",
      "text/plain": [
       "<Figure size 432x288 with 1 Axes>"
      ]
     },
     "metadata": {
      "needs_background": "light"
     },
     "output_type": "display_data"
    },
    {
     "ename": "ValueError",
     "evalue": "n_splits=10 cannot be greater than the number of members in each class.",
     "output_type": "error",
     "traceback": [
      "\u001b[0;31m---------------------------------------------------------------------------\u001b[0m",
      "\u001b[0;31mEmpty\u001b[0m                                     Traceback (most recent call last)",
      "File \u001b[0;32m~/Downloads/TP_Pruthvi/venv/lib/python3.10/site-packages/joblib/parallel.py:822\u001b[0m, in \u001b[0;36mParallel.dispatch_one_batch\u001b[0;34m(self, iterator)\u001b[0m\n\u001b[1;32m    <a href='file:///home/rajarshi07/Downloads/TP_Pruthvi/venv/lib/python3.10/site-packages/joblib/parallel.py?line=820'>821</a>\u001b[0m \u001b[39mtry\u001b[39;00m:\n\u001b[0;32m--> <a href='file:///home/rajarshi07/Downloads/TP_Pruthvi/venv/lib/python3.10/site-packages/joblib/parallel.py?line=821'>822</a>\u001b[0m     tasks \u001b[39m=\u001b[39m \u001b[39mself\u001b[39;49m\u001b[39m.\u001b[39;49m_ready_batches\u001b[39m.\u001b[39;49mget(block\u001b[39m=\u001b[39;49m\u001b[39mFalse\u001b[39;49;00m)\n\u001b[1;32m    <a href='file:///home/rajarshi07/Downloads/TP_Pruthvi/venv/lib/python3.10/site-packages/joblib/parallel.py?line=822'>823</a>\u001b[0m \u001b[39mexcept\u001b[39;00m queue\u001b[39m.\u001b[39mEmpty:\n\u001b[1;32m    <a href='file:///home/rajarshi07/Downloads/TP_Pruthvi/venv/lib/python3.10/site-packages/joblib/parallel.py?line=823'>824</a>\u001b[0m     \u001b[39m# slice the iterator n_jobs * batchsize items at a time. If the\u001b[39;00m\n\u001b[1;32m    <a href='file:///home/rajarshi07/Downloads/TP_Pruthvi/venv/lib/python3.10/site-packages/joblib/parallel.py?line=824'>825</a>\u001b[0m     \u001b[39m# slice returns less than that, then the current batchsize puts\u001b[39;00m\n\u001b[0;32m   (...)\u001b[0m\n\u001b[1;32m    <a href='file:///home/rajarshi07/Downloads/TP_Pruthvi/venv/lib/python3.10/site-packages/joblib/parallel.py?line=827'>828</a>\u001b[0m     \u001b[39m# accordingly to distribute evenly the last items between all\u001b[39;00m\n\u001b[1;32m    <a href='file:///home/rajarshi07/Downloads/TP_Pruthvi/venv/lib/python3.10/site-packages/joblib/parallel.py?line=828'>829</a>\u001b[0m     \u001b[39m# workers.\u001b[39;00m\n",
      "File \u001b[0;32m/usr/lib/python3.10/queue.py:168\u001b[0m, in \u001b[0;36mQueue.get\u001b[0;34m(self, block, timeout)\u001b[0m\n\u001b[1;32m    <a href='file:///usr/lib/python3.10/queue.py?line=166'>167</a>\u001b[0m     \u001b[39mif\u001b[39;00m \u001b[39mnot\u001b[39;00m \u001b[39mself\u001b[39m\u001b[39m.\u001b[39m_qsize():\n\u001b[0;32m--> <a href='file:///usr/lib/python3.10/queue.py?line=167'>168</a>\u001b[0m         \u001b[39mraise\u001b[39;00m Empty\n\u001b[1;32m    <a href='file:///usr/lib/python3.10/queue.py?line=168'>169</a>\u001b[0m \u001b[39melif\u001b[39;00m timeout \u001b[39mis\u001b[39;00m \u001b[39mNone\u001b[39;00m:\n",
      "\u001b[0;31mEmpty\u001b[0m: ",
      "\nDuring handling of the above exception, another exception occurred:\n",
      "\u001b[0;31mValueError\u001b[0m                                Traceback (most recent call last)",
      "\u001b[1;32m/home/rajarshi07/Downloads/TP_Pruthvi/classify.ipynb Cell 14'\u001b[0m in \u001b[0;36m<cell line: 20>\u001b[0;34m()\u001b[0m\n\u001b[1;32m     <a href='vscode-notebook-cell:/home/rajarshi07/Downloads/TP_Pruthvi/classify.ipynb#ch0000013?line=15'>16</a>\u001b[0m X_pca \u001b[39m=\u001b[39m pca_df\u001b[39m.\u001b[39miloc[:,\u001b[39m0\u001b[39m:\u001b[39m17\u001b[39m]\n\u001b[1;32m     <a href='vscode-notebook-cell:/home/rajarshi07/Downloads/TP_Pruthvi/classify.ipynb#ch0000013?line=18'>19</a>\u001b[0m forest \u001b[39m=\u001b[39m RandomForestClassifier(n_estimators\u001b[39m=\u001b[39m\u001b[39m100\u001b[39m, random_state\u001b[39m=\u001b[39m\u001b[39m1\u001b[39m)\n\u001b[0;32m---> <a href='vscode-notebook-cell:/home/rajarshi07/Downloads/TP_Pruthvi/classify.ipynb#ch0000013?line=19'>20</a>\u001b[0m croos_scores \u001b[39m=\u001b[39m cross_val_score(forest, X_pca, y, cv\u001b[39m=\u001b[39;49m\u001b[39m10\u001b[39;49m, scoring\u001b[39m=\u001b[39;49m\u001b[39m'\u001b[39;49m\u001b[39maccuracy\u001b[39;49m\u001b[39m'\u001b[39;49m)\n\u001b[1;32m     <a href='vscode-notebook-cell:/home/rajarshi07/Downloads/TP_Pruthvi/classify.ipynb#ch0000013?line=20'>21</a>\u001b[0m croos_scores\u001b[39m.\u001b[39mmean()\n\u001b[1;32m     <a href='vscode-notebook-cell:/home/rajarshi07/Downloads/TP_Pruthvi/classify.ipynb#ch0000013?line=22'>23</a>\u001b[0m knn \u001b[39m=\u001b[39m KNeighborsClassifier(n_neighbors\u001b[39m=\u001b[39m\u001b[39m5\u001b[39m)\n",
      "File \u001b[0;32m~/Downloads/TP_Pruthvi/venv/lib/python3.10/site-packages/sklearn/model_selection/_validation.py:509\u001b[0m, in \u001b[0;36mcross_val_score\u001b[0;34m(estimator, X, y, groups, scoring, cv, n_jobs, verbose, fit_params, pre_dispatch, error_score)\u001b[0m\n\u001b[1;32m    <a href='file:///home/rajarshi07/Downloads/TP_Pruthvi/venv/lib/python3.10/site-packages/sklearn/model_selection/_validation.py?line=505'>506</a>\u001b[0m \u001b[39m# To ensure multimetric format is not supported\u001b[39;00m\n\u001b[1;32m    <a href='file:///home/rajarshi07/Downloads/TP_Pruthvi/venv/lib/python3.10/site-packages/sklearn/model_selection/_validation.py?line=506'>507</a>\u001b[0m scorer \u001b[39m=\u001b[39m check_scoring(estimator, scoring\u001b[39m=\u001b[39mscoring)\n\u001b[0;32m--> <a href='file:///home/rajarshi07/Downloads/TP_Pruthvi/venv/lib/python3.10/site-packages/sklearn/model_selection/_validation.py?line=508'>509</a>\u001b[0m cv_results \u001b[39m=\u001b[39m cross_validate(\n\u001b[1;32m    <a href='file:///home/rajarshi07/Downloads/TP_Pruthvi/venv/lib/python3.10/site-packages/sklearn/model_selection/_validation.py?line=509'>510</a>\u001b[0m     estimator\u001b[39m=\u001b[39;49mestimator,\n\u001b[1;32m    <a href='file:///home/rajarshi07/Downloads/TP_Pruthvi/venv/lib/python3.10/site-packages/sklearn/model_selection/_validation.py?line=510'>511</a>\u001b[0m     X\u001b[39m=\u001b[39;49mX,\n\u001b[1;32m    <a href='file:///home/rajarshi07/Downloads/TP_Pruthvi/venv/lib/python3.10/site-packages/sklearn/model_selection/_validation.py?line=511'>512</a>\u001b[0m     y\u001b[39m=\u001b[39;49my,\n\u001b[1;32m    <a href='file:///home/rajarshi07/Downloads/TP_Pruthvi/venv/lib/python3.10/site-packages/sklearn/model_selection/_validation.py?line=512'>513</a>\u001b[0m     groups\u001b[39m=\u001b[39;49mgroups,\n\u001b[1;32m    <a href='file:///home/rajarshi07/Downloads/TP_Pruthvi/venv/lib/python3.10/site-packages/sklearn/model_selection/_validation.py?line=513'>514</a>\u001b[0m     scoring\u001b[39m=\u001b[39;49m{\u001b[39m\"\u001b[39;49m\u001b[39mscore\u001b[39;49m\u001b[39m\"\u001b[39;49m: scorer},\n\u001b[1;32m    <a href='file:///home/rajarshi07/Downloads/TP_Pruthvi/venv/lib/python3.10/site-packages/sklearn/model_selection/_validation.py?line=514'>515</a>\u001b[0m     cv\u001b[39m=\u001b[39;49mcv,\n\u001b[1;32m    <a href='file:///home/rajarshi07/Downloads/TP_Pruthvi/venv/lib/python3.10/site-packages/sklearn/model_selection/_validation.py?line=515'>516</a>\u001b[0m     n_jobs\u001b[39m=\u001b[39;49mn_jobs,\n\u001b[1;32m    <a href='file:///home/rajarshi07/Downloads/TP_Pruthvi/venv/lib/python3.10/site-packages/sklearn/model_selection/_validation.py?line=516'>517</a>\u001b[0m     verbose\u001b[39m=\u001b[39;49mverbose,\n\u001b[1;32m    <a href='file:///home/rajarshi07/Downloads/TP_Pruthvi/venv/lib/python3.10/site-packages/sklearn/model_selection/_validation.py?line=517'>518</a>\u001b[0m     fit_params\u001b[39m=\u001b[39;49mfit_params,\n\u001b[1;32m    <a href='file:///home/rajarshi07/Downloads/TP_Pruthvi/venv/lib/python3.10/site-packages/sklearn/model_selection/_validation.py?line=518'>519</a>\u001b[0m     pre_dispatch\u001b[39m=\u001b[39;49mpre_dispatch,\n\u001b[1;32m    <a href='file:///home/rajarshi07/Downloads/TP_Pruthvi/venv/lib/python3.10/site-packages/sklearn/model_selection/_validation.py?line=519'>520</a>\u001b[0m     error_score\u001b[39m=\u001b[39;49merror_score,\n\u001b[1;32m    <a href='file:///home/rajarshi07/Downloads/TP_Pruthvi/venv/lib/python3.10/site-packages/sklearn/model_selection/_validation.py?line=520'>521</a>\u001b[0m )\n\u001b[1;32m    <a href='file:///home/rajarshi07/Downloads/TP_Pruthvi/venv/lib/python3.10/site-packages/sklearn/model_selection/_validation.py?line=521'>522</a>\u001b[0m \u001b[39mreturn\u001b[39;00m cv_results[\u001b[39m\"\u001b[39m\u001b[39mtest_score\u001b[39m\u001b[39m\"\u001b[39m]\n",
      "File \u001b[0;32m~/Downloads/TP_Pruthvi/venv/lib/python3.10/site-packages/sklearn/model_selection/_validation.py:267\u001b[0m, in \u001b[0;36mcross_validate\u001b[0;34m(estimator, X, y, groups, scoring, cv, n_jobs, verbose, fit_params, pre_dispatch, return_train_score, return_estimator, error_score)\u001b[0m\n\u001b[1;32m    <a href='file:///home/rajarshi07/Downloads/TP_Pruthvi/venv/lib/python3.10/site-packages/sklearn/model_selection/_validation.py?line=263'>264</a>\u001b[0m \u001b[39m# We clone the estimator to make sure that all the folds are\u001b[39;00m\n\u001b[1;32m    <a href='file:///home/rajarshi07/Downloads/TP_Pruthvi/venv/lib/python3.10/site-packages/sklearn/model_selection/_validation.py?line=264'>265</a>\u001b[0m \u001b[39m# independent, and that it is pickle-able.\u001b[39;00m\n\u001b[1;32m    <a href='file:///home/rajarshi07/Downloads/TP_Pruthvi/venv/lib/python3.10/site-packages/sklearn/model_selection/_validation.py?line=265'>266</a>\u001b[0m parallel \u001b[39m=\u001b[39m Parallel(n_jobs\u001b[39m=\u001b[39mn_jobs, verbose\u001b[39m=\u001b[39mverbose, pre_dispatch\u001b[39m=\u001b[39mpre_dispatch)\n\u001b[0;32m--> <a href='file:///home/rajarshi07/Downloads/TP_Pruthvi/venv/lib/python3.10/site-packages/sklearn/model_selection/_validation.py?line=266'>267</a>\u001b[0m results \u001b[39m=\u001b[39m parallel(\n\u001b[1;32m    <a href='file:///home/rajarshi07/Downloads/TP_Pruthvi/venv/lib/python3.10/site-packages/sklearn/model_selection/_validation.py?line=267'>268</a>\u001b[0m     delayed(_fit_and_score)(\n\u001b[1;32m    <a href='file:///home/rajarshi07/Downloads/TP_Pruthvi/venv/lib/python3.10/site-packages/sklearn/model_selection/_validation.py?line=268'>269</a>\u001b[0m         clone(estimator),\n\u001b[1;32m    <a href='file:///home/rajarshi07/Downloads/TP_Pruthvi/venv/lib/python3.10/site-packages/sklearn/model_selection/_validation.py?line=269'>270</a>\u001b[0m         X,\n\u001b[1;32m    <a href='file:///home/rajarshi07/Downloads/TP_Pruthvi/venv/lib/python3.10/site-packages/sklearn/model_selection/_validation.py?line=270'>271</a>\u001b[0m         y,\n\u001b[1;32m    <a href='file:///home/rajarshi07/Downloads/TP_Pruthvi/venv/lib/python3.10/site-packages/sklearn/model_selection/_validation.py?line=271'>272</a>\u001b[0m         scorers,\n\u001b[1;32m    <a href='file:///home/rajarshi07/Downloads/TP_Pruthvi/venv/lib/python3.10/site-packages/sklearn/model_selection/_validation.py?line=272'>273</a>\u001b[0m         train,\n\u001b[1;32m    <a href='file:///home/rajarshi07/Downloads/TP_Pruthvi/venv/lib/python3.10/site-packages/sklearn/model_selection/_validation.py?line=273'>274</a>\u001b[0m         test,\n\u001b[1;32m    <a href='file:///home/rajarshi07/Downloads/TP_Pruthvi/venv/lib/python3.10/site-packages/sklearn/model_selection/_validation.py?line=274'>275</a>\u001b[0m         verbose,\n\u001b[1;32m    <a href='file:///home/rajarshi07/Downloads/TP_Pruthvi/venv/lib/python3.10/site-packages/sklearn/model_selection/_validation.py?line=275'>276</a>\u001b[0m         \u001b[39mNone\u001b[39;49;00m,\n\u001b[1;32m    <a href='file:///home/rajarshi07/Downloads/TP_Pruthvi/venv/lib/python3.10/site-packages/sklearn/model_selection/_validation.py?line=276'>277</a>\u001b[0m         fit_params,\n\u001b[1;32m    <a href='file:///home/rajarshi07/Downloads/TP_Pruthvi/venv/lib/python3.10/site-packages/sklearn/model_selection/_validation.py?line=277'>278</a>\u001b[0m         return_train_score\u001b[39m=\u001b[39;49mreturn_train_score,\n\u001b[1;32m    <a href='file:///home/rajarshi07/Downloads/TP_Pruthvi/venv/lib/python3.10/site-packages/sklearn/model_selection/_validation.py?line=278'>279</a>\u001b[0m         return_times\u001b[39m=\u001b[39;49m\u001b[39mTrue\u001b[39;49;00m,\n\u001b[1;32m    <a href='file:///home/rajarshi07/Downloads/TP_Pruthvi/venv/lib/python3.10/site-packages/sklearn/model_selection/_validation.py?line=279'>280</a>\u001b[0m         return_estimator\u001b[39m=\u001b[39;49mreturn_estimator,\n\u001b[1;32m    <a href='file:///home/rajarshi07/Downloads/TP_Pruthvi/venv/lib/python3.10/site-packages/sklearn/model_selection/_validation.py?line=280'>281</a>\u001b[0m         error_score\u001b[39m=\u001b[39;49merror_score,\n\u001b[1;32m    <a href='file:///home/rajarshi07/Downloads/TP_Pruthvi/venv/lib/python3.10/site-packages/sklearn/model_selection/_validation.py?line=281'>282</a>\u001b[0m     )\n\u001b[1;32m    <a href='file:///home/rajarshi07/Downloads/TP_Pruthvi/venv/lib/python3.10/site-packages/sklearn/model_selection/_validation.py?line=282'>283</a>\u001b[0m     \u001b[39mfor\u001b[39;49;00m train, test \u001b[39min\u001b[39;49;00m cv\u001b[39m.\u001b[39;49msplit(X, y, groups)\n\u001b[1;32m    <a href='file:///home/rajarshi07/Downloads/TP_Pruthvi/venv/lib/python3.10/site-packages/sklearn/model_selection/_validation.py?line=283'>284</a>\u001b[0m )\n\u001b[1;32m    <a href='file:///home/rajarshi07/Downloads/TP_Pruthvi/venv/lib/python3.10/site-packages/sklearn/model_selection/_validation.py?line=285'>286</a>\u001b[0m _warn_about_fit_failures(results, error_score)\n\u001b[1;32m    <a href='file:///home/rajarshi07/Downloads/TP_Pruthvi/venv/lib/python3.10/site-packages/sklearn/model_selection/_validation.py?line=287'>288</a>\u001b[0m \u001b[39m# For callabe scoring, the return type is only know after calling. If the\u001b[39;00m\n\u001b[1;32m    <a href='file:///home/rajarshi07/Downloads/TP_Pruthvi/venv/lib/python3.10/site-packages/sklearn/model_selection/_validation.py?line=288'>289</a>\u001b[0m \u001b[39m# return type is a dictionary, the error scores can now be inserted with\u001b[39;00m\n\u001b[1;32m    <a href='file:///home/rajarshi07/Downloads/TP_Pruthvi/venv/lib/python3.10/site-packages/sklearn/model_selection/_validation.py?line=289'>290</a>\u001b[0m \u001b[39m# the correct key.\u001b[39;00m\n",
      "File \u001b[0;32m~/Downloads/TP_Pruthvi/venv/lib/python3.10/site-packages/joblib/parallel.py:1043\u001b[0m, in \u001b[0;36mParallel.__call__\u001b[0;34m(self, iterable)\u001b[0m\n\u001b[1;32m   <a href='file:///home/rajarshi07/Downloads/TP_Pruthvi/venv/lib/python3.10/site-packages/joblib/parallel.py?line=1033'>1034</a>\u001b[0m \u001b[39mtry\u001b[39;00m:\n\u001b[1;32m   <a href='file:///home/rajarshi07/Downloads/TP_Pruthvi/venv/lib/python3.10/site-packages/joblib/parallel.py?line=1034'>1035</a>\u001b[0m     \u001b[39m# Only set self._iterating to True if at least a batch\u001b[39;00m\n\u001b[1;32m   <a href='file:///home/rajarshi07/Downloads/TP_Pruthvi/venv/lib/python3.10/site-packages/joblib/parallel.py?line=1035'>1036</a>\u001b[0m     \u001b[39m# was dispatched. In particular this covers the edge\u001b[39;00m\n\u001b[0;32m   (...)\u001b[0m\n\u001b[1;32m   <a href='file:///home/rajarshi07/Downloads/TP_Pruthvi/venv/lib/python3.10/site-packages/joblib/parallel.py?line=1039'>1040</a>\u001b[0m     \u001b[39m# was very quick and its callback already dispatched all the\u001b[39;00m\n\u001b[1;32m   <a href='file:///home/rajarshi07/Downloads/TP_Pruthvi/venv/lib/python3.10/site-packages/joblib/parallel.py?line=1040'>1041</a>\u001b[0m     \u001b[39m# remaining jobs.\u001b[39;00m\n\u001b[1;32m   <a href='file:///home/rajarshi07/Downloads/TP_Pruthvi/venv/lib/python3.10/site-packages/joblib/parallel.py?line=1041'>1042</a>\u001b[0m     \u001b[39mself\u001b[39m\u001b[39m.\u001b[39m_iterating \u001b[39m=\u001b[39m \u001b[39mFalse\u001b[39;00m\n\u001b[0;32m-> <a href='file:///home/rajarshi07/Downloads/TP_Pruthvi/venv/lib/python3.10/site-packages/joblib/parallel.py?line=1042'>1043</a>\u001b[0m     \u001b[39mif\u001b[39;00m \u001b[39mself\u001b[39;49m\u001b[39m.\u001b[39;49mdispatch_one_batch(iterator):\n\u001b[1;32m   <a href='file:///home/rajarshi07/Downloads/TP_Pruthvi/venv/lib/python3.10/site-packages/joblib/parallel.py?line=1043'>1044</a>\u001b[0m         \u001b[39mself\u001b[39m\u001b[39m.\u001b[39m_iterating \u001b[39m=\u001b[39m \u001b[39mself\u001b[39m\u001b[39m.\u001b[39m_original_iterator \u001b[39mis\u001b[39;00m \u001b[39mnot\u001b[39;00m \u001b[39mNone\u001b[39;00m\n\u001b[1;32m   <a href='file:///home/rajarshi07/Downloads/TP_Pruthvi/venv/lib/python3.10/site-packages/joblib/parallel.py?line=1045'>1046</a>\u001b[0m     \u001b[39mwhile\u001b[39;00m \u001b[39mself\u001b[39m\u001b[39m.\u001b[39mdispatch_one_batch(iterator):\n",
      "File \u001b[0;32m~/Downloads/TP_Pruthvi/venv/lib/python3.10/site-packages/joblib/parallel.py:833\u001b[0m, in \u001b[0;36mParallel.dispatch_one_batch\u001b[0;34m(self, iterator)\u001b[0m\n\u001b[1;32m    <a href='file:///home/rajarshi07/Downloads/TP_Pruthvi/venv/lib/python3.10/site-packages/joblib/parallel.py?line=829'>830</a>\u001b[0m n_jobs \u001b[39m=\u001b[39m \u001b[39mself\u001b[39m\u001b[39m.\u001b[39m_cached_effective_n_jobs\n\u001b[1;32m    <a href='file:///home/rajarshi07/Downloads/TP_Pruthvi/venv/lib/python3.10/site-packages/joblib/parallel.py?line=830'>831</a>\u001b[0m big_batch_size \u001b[39m=\u001b[39m batch_size \u001b[39m*\u001b[39m n_jobs\n\u001b[0;32m--> <a href='file:///home/rajarshi07/Downloads/TP_Pruthvi/venv/lib/python3.10/site-packages/joblib/parallel.py?line=832'>833</a>\u001b[0m islice \u001b[39m=\u001b[39m \u001b[39mlist\u001b[39;49m(itertools\u001b[39m.\u001b[39;49mislice(iterator, big_batch_size))\n\u001b[1;32m    <a href='file:///home/rajarshi07/Downloads/TP_Pruthvi/venv/lib/python3.10/site-packages/joblib/parallel.py?line=833'>834</a>\u001b[0m \u001b[39mif\u001b[39;00m \u001b[39mlen\u001b[39m(islice) \u001b[39m==\u001b[39m \u001b[39m0\u001b[39m:\n\u001b[1;32m    <a href='file:///home/rajarshi07/Downloads/TP_Pruthvi/venv/lib/python3.10/site-packages/joblib/parallel.py?line=834'>835</a>\u001b[0m     \u001b[39mreturn\u001b[39;00m \u001b[39mFalse\u001b[39;00m\n",
      "File \u001b[0;32m~/Downloads/TP_Pruthvi/venv/lib/python3.10/site-packages/sklearn/model_selection/_validation.py:267\u001b[0m, in \u001b[0;36m<genexpr>\u001b[0;34m(.0)\u001b[0m\n\u001b[1;32m    <a href='file:///home/rajarshi07/Downloads/TP_Pruthvi/venv/lib/python3.10/site-packages/sklearn/model_selection/_validation.py?line=263'>264</a>\u001b[0m \u001b[39m# We clone the estimator to make sure that all the folds are\u001b[39;00m\n\u001b[1;32m    <a href='file:///home/rajarshi07/Downloads/TP_Pruthvi/venv/lib/python3.10/site-packages/sklearn/model_selection/_validation.py?line=264'>265</a>\u001b[0m \u001b[39m# independent, and that it is pickle-able.\u001b[39;00m\n\u001b[1;32m    <a href='file:///home/rajarshi07/Downloads/TP_Pruthvi/venv/lib/python3.10/site-packages/sklearn/model_selection/_validation.py?line=265'>266</a>\u001b[0m parallel \u001b[39m=\u001b[39m Parallel(n_jobs\u001b[39m=\u001b[39mn_jobs, verbose\u001b[39m=\u001b[39mverbose, pre_dispatch\u001b[39m=\u001b[39mpre_dispatch)\n\u001b[0;32m--> <a href='file:///home/rajarshi07/Downloads/TP_Pruthvi/venv/lib/python3.10/site-packages/sklearn/model_selection/_validation.py?line=266'>267</a>\u001b[0m results \u001b[39m=\u001b[39m parallel(\n\u001b[1;32m    <a href='file:///home/rajarshi07/Downloads/TP_Pruthvi/venv/lib/python3.10/site-packages/sklearn/model_selection/_validation.py?line=267'>268</a>\u001b[0m     delayed(_fit_and_score)(\n\u001b[1;32m    <a href='file:///home/rajarshi07/Downloads/TP_Pruthvi/venv/lib/python3.10/site-packages/sklearn/model_selection/_validation.py?line=268'>269</a>\u001b[0m         clone(estimator),\n\u001b[1;32m    <a href='file:///home/rajarshi07/Downloads/TP_Pruthvi/venv/lib/python3.10/site-packages/sklearn/model_selection/_validation.py?line=269'>270</a>\u001b[0m         X,\n\u001b[1;32m    <a href='file:///home/rajarshi07/Downloads/TP_Pruthvi/venv/lib/python3.10/site-packages/sklearn/model_selection/_validation.py?line=270'>271</a>\u001b[0m         y,\n\u001b[1;32m    <a href='file:///home/rajarshi07/Downloads/TP_Pruthvi/venv/lib/python3.10/site-packages/sklearn/model_selection/_validation.py?line=271'>272</a>\u001b[0m         scorers,\n\u001b[1;32m    <a href='file:///home/rajarshi07/Downloads/TP_Pruthvi/venv/lib/python3.10/site-packages/sklearn/model_selection/_validation.py?line=272'>273</a>\u001b[0m         train,\n\u001b[1;32m    <a href='file:///home/rajarshi07/Downloads/TP_Pruthvi/venv/lib/python3.10/site-packages/sklearn/model_selection/_validation.py?line=273'>274</a>\u001b[0m         test,\n\u001b[1;32m    <a href='file:///home/rajarshi07/Downloads/TP_Pruthvi/venv/lib/python3.10/site-packages/sklearn/model_selection/_validation.py?line=274'>275</a>\u001b[0m         verbose,\n\u001b[1;32m    <a href='file:///home/rajarshi07/Downloads/TP_Pruthvi/venv/lib/python3.10/site-packages/sklearn/model_selection/_validation.py?line=275'>276</a>\u001b[0m         \u001b[39mNone\u001b[39;00m,\n\u001b[1;32m    <a href='file:///home/rajarshi07/Downloads/TP_Pruthvi/venv/lib/python3.10/site-packages/sklearn/model_selection/_validation.py?line=276'>277</a>\u001b[0m         fit_params,\n\u001b[1;32m    <a href='file:///home/rajarshi07/Downloads/TP_Pruthvi/venv/lib/python3.10/site-packages/sklearn/model_selection/_validation.py?line=277'>278</a>\u001b[0m         return_train_score\u001b[39m=\u001b[39mreturn_train_score,\n\u001b[1;32m    <a href='file:///home/rajarshi07/Downloads/TP_Pruthvi/venv/lib/python3.10/site-packages/sklearn/model_selection/_validation.py?line=278'>279</a>\u001b[0m         return_times\u001b[39m=\u001b[39m\u001b[39mTrue\u001b[39;00m,\n\u001b[1;32m    <a href='file:///home/rajarshi07/Downloads/TP_Pruthvi/venv/lib/python3.10/site-packages/sklearn/model_selection/_validation.py?line=279'>280</a>\u001b[0m         return_estimator\u001b[39m=\u001b[39mreturn_estimator,\n\u001b[1;32m    <a href='file:///home/rajarshi07/Downloads/TP_Pruthvi/venv/lib/python3.10/site-packages/sklearn/model_selection/_validation.py?line=280'>281</a>\u001b[0m         error_score\u001b[39m=\u001b[39merror_score,\n\u001b[1;32m    <a href='file:///home/rajarshi07/Downloads/TP_Pruthvi/venv/lib/python3.10/site-packages/sklearn/model_selection/_validation.py?line=281'>282</a>\u001b[0m     )\n\u001b[1;32m    <a href='file:///home/rajarshi07/Downloads/TP_Pruthvi/venv/lib/python3.10/site-packages/sklearn/model_selection/_validation.py?line=282'>283</a>\u001b[0m     \u001b[39mfor\u001b[39;00m train, test \u001b[39min\u001b[39;00m cv\u001b[39m.\u001b[39msplit(X, y, groups)\n\u001b[1;32m    <a href='file:///home/rajarshi07/Downloads/TP_Pruthvi/venv/lib/python3.10/site-packages/sklearn/model_selection/_validation.py?line=283'>284</a>\u001b[0m )\n\u001b[1;32m    <a href='file:///home/rajarshi07/Downloads/TP_Pruthvi/venv/lib/python3.10/site-packages/sklearn/model_selection/_validation.py?line=285'>286</a>\u001b[0m _warn_about_fit_failures(results, error_score)\n\u001b[1;32m    <a href='file:///home/rajarshi07/Downloads/TP_Pruthvi/venv/lib/python3.10/site-packages/sklearn/model_selection/_validation.py?line=287'>288</a>\u001b[0m \u001b[39m# For callabe scoring, the return type is only know after calling. If the\u001b[39;00m\n\u001b[1;32m    <a href='file:///home/rajarshi07/Downloads/TP_Pruthvi/venv/lib/python3.10/site-packages/sklearn/model_selection/_validation.py?line=288'>289</a>\u001b[0m \u001b[39m# return type is a dictionary, the error scores can now be inserted with\u001b[39;00m\n\u001b[1;32m    <a href='file:///home/rajarshi07/Downloads/TP_Pruthvi/venv/lib/python3.10/site-packages/sklearn/model_selection/_validation.py?line=289'>290</a>\u001b[0m \u001b[39m# the correct key.\u001b[39;00m\n",
      "File \u001b[0;32m~/Downloads/TP_Pruthvi/venv/lib/python3.10/site-packages/sklearn/model_selection/_split.py:340\u001b[0m, in \u001b[0;36m_BaseKFold.split\u001b[0;34m(self, X, y, groups)\u001b[0m\n\u001b[1;32m    <a href='file:///home/rajarshi07/Downloads/TP_Pruthvi/venv/lib/python3.10/site-packages/sklearn/model_selection/_split.py?line=331'>332</a>\u001b[0m \u001b[39mif\u001b[39;00m \u001b[39mself\u001b[39m\u001b[39m.\u001b[39mn_splits \u001b[39m>\u001b[39m n_samples:\n\u001b[1;32m    <a href='file:///home/rajarshi07/Downloads/TP_Pruthvi/venv/lib/python3.10/site-packages/sklearn/model_selection/_split.py?line=332'>333</a>\u001b[0m     \u001b[39mraise\u001b[39;00m \u001b[39mValueError\u001b[39;00m(\n\u001b[1;32m    <a href='file:///home/rajarshi07/Downloads/TP_Pruthvi/venv/lib/python3.10/site-packages/sklearn/model_selection/_split.py?line=333'>334</a>\u001b[0m         (\n\u001b[1;32m    <a href='file:///home/rajarshi07/Downloads/TP_Pruthvi/venv/lib/python3.10/site-packages/sklearn/model_selection/_split.py?line=334'>335</a>\u001b[0m             \u001b[39m\"\u001b[39m\u001b[39mCannot have number of splits n_splits=\u001b[39m\u001b[39m{0}\u001b[39;00m\u001b[39m greater\u001b[39m\u001b[39m\"\u001b[39m\n\u001b[1;32m    <a href='file:///home/rajarshi07/Downloads/TP_Pruthvi/venv/lib/python3.10/site-packages/sklearn/model_selection/_split.py?line=335'>336</a>\u001b[0m             \u001b[39m\"\u001b[39m\u001b[39m than the number of samples: n_samples=\u001b[39m\u001b[39m{1}\u001b[39;00m\u001b[39m.\u001b[39m\u001b[39m\"\u001b[39m\n\u001b[1;32m    <a href='file:///home/rajarshi07/Downloads/TP_Pruthvi/venv/lib/python3.10/site-packages/sklearn/model_selection/_split.py?line=336'>337</a>\u001b[0m         )\u001b[39m.\u001b[39mformat(\u001b[39mself\u001b[39m\u001b[39m.\u001b[39mn_splits, n_samples)\n\u001b[1;32m    <a href='file:///home/rajarshi07/Downloads/TP_Pruthvi/venv/lib/python3.10/site-packages/sklearn/model_selection/_split.py?line=337'>338</a>\u001b[0m     )\n\u001b[0;32m--> <a href='file:///home/rajarshi07/Downloads/TP_Pruthvi/venv/lib/python3.10/site-packages/sklearn/model_selection/_split.py?line=339'>340</a>\u001b[0m \u001b[39mfor\u001b[39;00m train, test \u001b[39min\u001b[39;00m \u001b[39msuper\u001b[39m()\u001b[39m.\u001b[39msplit(X, y, groups):\n\u001b[1;32m    <a href='file:///home/rajarshi07/Downloads/TP_Pruthvi/venv/lib/python3.10/site-packages/sklearn/model_selection/_split.py?line=340'>341</a>\u001b[0m     \u001b[39myield\u001b[39;00m train, test\n",
      "File \u001b[0;32m~/Downloads/TP_Pruthvi/venv/lib/python3.10/site-packages/sklearn/model_selection/_split.py:86\u001b[0m, in \u001b[0;36mBaseCrossValidator.split\u001b[0;34m(self, X, y, groups)\u001b[0m\n\u001b[1;32m     <a href='file:///home/rajarshi07/Downloads/TP_Pruthvi/venv/lib/python3.10/site-packages/sklearn/model_selection/_split.py?line=83'>84</a>\u001b[0m X, y, groups \u001b[39m=\u001b[39m indexable(X, y, groups)\n\u001b[1;32m     <a href='file:///home/rajarshi07/Downloads/TP_Pruthvi/venv/lib/python3.10/site-packages/sklearn/model_selection/_split.py?line=84'>85</a>\u001b[0m indices \u001b[39m=\u001b[39m np\u001b[39m.\u001b[39marange(_num_samples(X))\n\u001b[0;32m---> <a href='file:///home/rajarshi07/Downloads/TP_Pruthvi/venv/lib/python3.10/site-packages/sklearn/model_selection/_split.py?line=85'>86</a>\u001b[0m \u001b[39mfor\u001b[39;00m test_index \u001b[39min\u001b[39;00m \u001b[39mself\u001b[39m\u001b[39m.\u001b[39m_iter_test_masks(X, y, groups):\n\u001b[1;32m     <a href='file:///home/rajarshi07/Downloads/TP_Pruthvi/venv/lib/python3.10/site-packages/sklearn/model_selection/_split.py?line=86'>87</a>\u001b[0m     train_index \u001b[39m=\u001b[39m indices[np\u001b[39m.\u001b[39mlogical_not(test_index)]\n\u001b[1;32m     <a href='file:///home/rajarshi07/Downloads/TP_Pruthvi/venv/lib/python3.10/site-packages/sklearn/model_selection/_split.py?line=87'>88</a>\u001b[0m     test_index \u001b[39m=\u001b[39m indices[test_index]\n",
      "File \u001b[0;32m~/Downloads/TP_Pruthvi/venv/lib/python3.10/site-packages/sklearn/model_selection/_split.py:709\u001b[0m, in \u001b[0;36mStratifiedKFold._iter_test_masks\u001b[0;34m(self, X, y, groups)\u001b[0m\n\u001b[1;32m    <a href='file:///home/rajarshi07/Downloads/TP_Pruthvi/venv/lib/python3.10/site-packages/sklearn/model_selection/_split.py?line=707'>708</a>\u001b[0m \u001b[39mdef\u001b[39;00m \u001b[39m_iter_test_masks\u001b[39m(\u001b[39mself\u001b[39m, X, y\u001b[39m=\u001b[39m\u001b[39mNone\u001b[39;00m, groups\u001b[39m=\u001b[39m\u001b[39mNone\u001b[39;00m):\n\u001b[0;32m--> <a href='file:///home/rajarshi07/Downloads/TP_Pruthvi/venv/lib/python3.10/site-packages/sklearn/model_selection/_split.py?line=708'>709</a>\u001b[0m     test_folds \u001b[39m=\u001b[39m \u001b[39mself\u001b[39;49m\u001b[39m.\u001b[39;49m_make_test_folds(X, y)\n\u001b[1;32m    <a href='file:///home/rajarshi07/Downloads/TP_Pruthvi/venv/lib/python3.10/site-packages/sklearn/model_selection/_split.py?line=709'>710</a>\u001b[0m     \u001b[39mfor\u001b[39;00m i \u001b[39min\u001b[39;00m \u001b[39mrange\u001b[39m(\u001b[39mself\u001b[39m\u001b[39m.\u001b[39mn_splits):\n\u001b[1;32m    <a href='file:///home/rajarshi07/Downloads/TP_Pruthvi/venv/lib/python3.10/site-packages/sklearn/model_selection/_split.py?line=710'>711</a>\u001b[0m         \u001b[39myield\u001b[39;00m test_folds \u001b[39m==\u001b[39m i\n",
      "File \u001b[0;32m~/Downloads/TP_Pruthvi/venv/lib/python3.10/site-packages/sklearn/model_selection/_split.py:671\u001b[0m, in \u001b[0;36mStratifiedKFold._make_test_folds\u001b[0;34m(self, X, y)\u001b[0m\n\u001b[1;32m    <a href='file:///home/rajarshi07/Downloads/TP_Pruthvi/venv/lib/python3.10/site-packages/sklearn/model_selection/_split.py?line=668'>669</a>\u001b[0m min_groups \u001b[39m=\u001b[39m np\u001b[39m.\u001b[39mmin(y_counts)\n\u001b[1;32m    <a href='file:///home/rajarshi07/Downloads/TP_Pruthvi/venv/lib/python3.10/site-packages/sklearn/model_selection/_split.py?line=669'>670</a>\u001b[0m \u001b[39mif\u001b[39;00m np\u001b[39m.\u001b[39mall(\u001b[39mself\u001b[39m\u001b[39m.\u001b[39mn_splits \u001b[39m>\u001b[39m y_counts):\n\u001b[0;32m--> <a href='file:///home/rajarshi07/Downloads/TP_Pruthvi/venv/lib/python3.10/site-packages/sklearn/model_selection/_split.py?line=670'>671</a>\u001b[0m     \u001b[39mraise\u001b[39;00m \u001b[39mValueError\u001b[39;00m(\n\u001b[1;32m    <a href='file:///home/rajarshi07/Downloads/TP_Pruthvi/venv/lib/python3.10/site-packages/sklearn/model_selection/_split.py?line=671'>672</a>\u001b[0m         \u001b[39m\"\u001b[39m\u001b[39mn_splits=\u001b[39m\u001b[39m%d\u001b[39;00m\u001b[39m cannot be greater than the\u001b[39m\u001b[39m\"\u001b[39m\n\u001b[1;32m    <a href='file:///home/rajarshi07/Downloads/TP_Pruthvi/venv/lib/python3.10/site-packages/sklearn/model_selection/_split.py?line=672'>673</a>\u001b[0m         \u001b[39m\"\u001b[39m\u001b[39m number of members in each class.\u001b[39m\u001b[39m\"\u001b[39m \u001b[39m%\u001b[39m (\u001b[39mself\u001b[39m\u001b[39m.\u001b[39mn_splits)\n\u001b[1;32m    <a href='file:///home/rajarshi07/Downloads/TP_Pruthvi/venv/lib/python3.10/site-packages/sklearn/model_selection/_split.py?line=673'>674</a>\u001b[0m     )\n\u001b[1;32m    <a href='file:///home/rajarshi07/Downloads/TP_Pruthvi/venv/lib/python3.10/site-packages/sklearn/model_selection/_split.py?line=674'>675</a>\u001b[0m \u001b[39mif\u001b[39;00m \u001b[39mself\u001b[39m\u001b[39m.\u001b[39mn_splits \u001b[39m>\u001b[39m min_groups:\n\u001b[1;32m    <a href='file:///home/rajarshi07/Downloads/TP_Pruthvi/venv/lib/python3.10/site-packages/sklearn/model_selection/_split.py?line=675'>676</a>\u001b[0m     warnings\u001b[39m.\u001b[39mwarn(\n\u001b[1;32m    <a href='file:///home/rajarshi07/Downloads/TP_Pruthvi/venv/lib/python3.10/site-packages/sklearn/model_selection/_split.py?line=676'>677</a>\u001b[0m         \u001b[39m\"\u001b[39m\u001b[39mThe least populated class in y has only \u001b[39m\u001b[39m%d\u001b[39;00m\u001b[39m\"\u001b[39m\n\u001b[1;32m    <a href='file:///home/rajarshi07/Downloads/TP_Pruthvi/venv/lib/python3.10/site-packages/sklearn/model_selection/_split.py?line=677'>678</a>\u001b[0m         \u001b[39m\"\u001b[39m\u001b[39m members, which is less than n_splits=\u001b[39m\u001b[39m%d\u001b[39;00m\u001b[39m.\u001b[39m\u001b[39m\"\u001b[39m\n\u001b[1;32m    <a href='file:///home/rajarshi07/Downloads/TP_Pruthvi/venv/lib/python3.10/site-packages/sklearn/model_selection/_split.py?line=678'>679</a>\u001b[0m         \u001b[39m%\u001b[39m (min_groups, \u001b[39mself\u001b[39m\u001b[39m.\u001b[39mn_splits),\n\u001b[1;32m    <a href='file:///home/rajarshi07/Downloads/TP_Pruthvi/venv/lib/python3.10/site-packages/sklearn/model_selection/_split.py?line=679'>680</a>\u001b[0m         \u001b[39mUserWarning\u001b[39;00m,\n\u001b[1;32m    <a href='file:///home/rajarshi07/Downloads/TP_Pruthvi/venv/lib/python3.10/site-packages/sklearn/model_selection/_split.py?line=680'>681</a>\u001b[0m     )\n",
      "\u001b[0;31mValueError\u001b[0m: n_splits=10 cannot be greater than the number of members in each class."
     ]
    }
   ],
   "source": [
    "\n",
    "from sklearn.decomposition import PCA\n",
    "import matplotlib.pyplot as plt\n",
    "\n",
    "pca = PCA(0.95)\n",
    "pca.fit(X_scaled)\n",
    "pca_data = pca.transform(X_scaled)\n",
    "\n",
    "per_var = np.round(pca.explained_variance_ratio_*100,decimals=2)\n",
    "pca_labels = [\"PC\" + str(x) for x in range(1,len(per_var)+1)]\n",
    "\n",
    "\n",
    "plt.bar(x=range(1,len(per_var)+1),height=per_var,tick_label=pca_labels)\n",
    "plt.show()\n",
    "\n",
    "pca_df = pd.DataFrame(pca_data,columns = pca_labels)\n",
    "X_pca = pca_df.iloc[:,0:17]\n",
    "\n",
    "\n",
    "forest = RandomForestClassifier(n_estimators=100, random_state=1)\n",
    "croos_scores = cross_val_score(forest, X_pca, y, cv=10, scoring='accuracy')\n",
    "croos_scores.mean()\n",
    "\n",
    "knn = KNeighborsClassifier(n_neighbors=5)\n",
    "croos_scores = cross_val_score(clf, X_pca, y, cv=10, scoring='accuracy')\n",
    "croos_scores.mean()\n",
    "\n",
    "croos_scores = cross_val_score(clf1, X_pca, y, cv=10, scoring='accuracy')\n",
    "croos_scores.mean()\n",
    "\n",
    "croos_scores = cross_val_score(clf2, X_pca, y, cv=10, scoring='accuracy')\n",
    "croos_scores.mean()\n",
    "\n",
    "croos_scores = cross_val_score(clf3, X_pca, y, cv=10, scoring='accuracy')\n",
    "croos_scores.mean()\n",
    "\n"
   ]
  },
  {
   "cell_type": "code",
   "execution_count": 20,
   "metadata": {},
   "outputs": [
    {
     "name": "stdout",
     "output_type": "stream",
     "text": [
      "0.6\n",
      "{'estimator__C': 100, 'estimator__degree': 2, 'estimator__kernel': 'poly'}\n"
     ]
    }
   ],
   "source": [
    "\n",
    "\n",
    "from sklearn.model_selection import GridSearchCV\n",
    "from sklearn.metrics import f1_score, make_scorer\n",
    "from sklearn.svm import SVC\n",
    "\n",
    "#iris = load_iris()\n",
    "\n",
    "model_to_set = OneVsOneClassifier(SVC(kernel=\"poly\"))\n",
    "\n",
    "parameters = {\n",
    "    \"estimator__C\": [100,200,400,800],\n",
    "    \"estimator__kernel\": [\"poly\",\"rbf\"],\n",
    "    \"estimator__degree\":[1, 2, 3, 4],\n",
    "}\n",
    "score_func = make_scorer(f1_score,average=\"micro\")\n",
    "model_tunning = GridSearchCV(model_to_set, param_grid=parameters,\n",
    "                             scoring=score_func)\n",
    "\n",
    "model_tunning.fit(X_pca,y)\n",
    "\n",
    "print(model_tunning.best_score_)\n",
    "print(model_tunning.best_params_)\n",
    "\n",
    "param_grid = { \n",
    "    'n_estimators': [100,200],\n",
    "    'max_features': ['auto', 'sqrt', 'log2'],\n",
    "    'max_depth' : [4,5,6,7,8],\n",
    "    'criterion' :['entropy']\n",
    "}\n",
    "rfc=RandomForestClassifier(random_state=42)\n",
    "\n",
    "model_tunning = GridSearchCV(rfc, param_grid=parameters,cv= 5)\n"
   ]
  }
 ],
 "metadata": {
  "interpreter": {
   "hash": "4d5e48ceab3a16b7b588a6fa1a7c450b92ea84cfe4a02f39d59a578805aba983"
  },
  "kernelspec": {
   "display_name": "Python 3.10.4 ('venv': venv)",
   "language": "python",
   "name": "python3"
  },
  "language_info": {
   "codemirror_mode": {
    "name": "ipython",
    "version": 3
   },
   "file_extension": ".py",
   "mimetype": "text/x-python",
   "name": "python",
   "nbconvert_exporter": "python",
   "pygments_lexer": "ipython3",
   "version": "3.10.4"
  },
  "orig_nbformat": 4
 },
 "nbformat": 4,
 "nbformat_minor": 2
}
